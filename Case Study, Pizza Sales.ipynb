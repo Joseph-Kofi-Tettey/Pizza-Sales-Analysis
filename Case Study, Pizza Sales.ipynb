{
 "cells": [
  {
   "cell_type": "code",
   "execution_count": 1,
   "id": "06fba65b",
   "metadata": {},
   "outputs": [],
   "source": [
    "import pandas as pd\n",
    "import matplotlib.pyplot as plt\n",
    "import seaborn as sns"
   ]
  },
  {
   "cell_type": "code",
   "execution_count": 2,
   "id": "391ecb1c",
   "metadata": {},
   "outputs": [
    {
     "data": {
      "text/html": [
       "<div>\n",
       "<style scoped>\n",
       "    .dataframe tbody tr th:only-of-type {\n",
       "        vertical-align: middle;\n",
       "    }\n",
       "\n",
       "    .dataframe tbody tr th {\n",
       "        vertical-align: top;\n",
       "    }\n",
       "\n",
       "    .dataframe thead th {\n",
       "        text-align: right;\n",
       "    }\n",
       "</style>\n",
       "<table border=\"1\" class=\"dataframe\">\n",
       "  <thead>\n",
       "    <tr style=\"text-align: right;\">\n",
       "      <th></th>\n",
       "      <th>order_id</th>\n",
       "      <th>date</th>\n",
       "      <th>time</th>\n",
       "    </tr>\n",
       "  </thead>\n",
       "  <tbody>\n",
       "    <tr>\n",
       "      <th>0</th>\n",
       "      <td>1</td>\n",
       "      <td>2015-01-01</td>\n",
       "      <td>11:38:36</td>\n",
       "    </tr>\n",
       "    <tr>\n",
       "      <th>1</th>\n",
       "      <td>2</td>\n",
       "      <td>2015-01-01</td>\n",
       "      <td>11:57:40</td>\n",
       "    </tr>\n",
       "    <tr>\n",
       "      <th>2</th>\n",
       "      <td>3</td>\n",
       "      <td>2015-01-01</td>\n",
       "      <td>12:12:28</td>\n",
       "    </tr>\n",
       "    <tr>\n",
       "      <th>3</th>\n",
       "      <td>4</td>\n",
       "      <td>2015-01-01</td>\n",
       "      <td>12:16:31</td>\n",
       "    </tr>\n",
       "    <tr>\n",
       "      <th>4</th>\n",
       "      <td>5</td>\n",
       "      <td>2015-01-01</td>\n",
       "      <td>12:21:30</td>\n",
       "    </tr>\n",
       "    <tr>\n",
       "      <th>...</th>\n",
       "      <td>...</td>\n",
       "      <td>...</td>\n",
       "      <td>...</td>\n",
       "    </tr>\n",
       "    <tr>\n",
       "      <th>21345</th>\n",
       "      <td>21346</td>\n",
       "      <td>2015-12-31</td>\n",
       "      <td>20:51:07</td>\n",
       "    </tr>\n",
       "    <tr>\n",
       "      <th>21346</th>\n",
       "      <td>21347</td>\n",
       "      <td>2015-12-31</td>\n",
       "      <td>21:14:37</td>\n",
       "    </tr>\n",
       "    <tr>\n",
       "      <th>21347</th>\n",
       "      <td>21348</td>\n",
       "      <td>2015-12-31</td>\n",
       "      <td>21:23:10</td>\n",
       "    </tr>\n",
       "    <tr>\n",
       "      <th>21348</th>\n",
       "      <td>21349</td>\n",
       "      <td>2015-12-31</td>\n",
       "      <td>22:09:54</td>\n",
       "    </tr>\n",
       "    <tr>\n",
       "      <th>21349</th>\n",
       "      <td>21350</td>\n",
       "      <td>2015-12-31</td>\n",
       "      <td>23:02:05</td>\n",
       "    </tr>\n",
       "  </tbody>\n",
       "</table>\n",
       "<p>21350 rows × 3 columns</p>\n",
       "</div>"
      ],
      "text/plain": [
       "       order_id        date      time\n",
       "0             1  2015-01-01  11:38:36\n",
       "1             2  2015-01-01  11:57:40\n",
       "2             3  2015-01-01  12:12:28\n",
       "3             4  2015-01-01  12:16:31\n",
       "4             5  2015-01-01  12:21:30\n",
       "...         ...         ...       ...\n",
       "21345     21346  2015-12-31  20:51:07\n",
       "21346     21347  2015-12-31  21:14:37\n",
       "21347     21348  2015-12-31  21:23:10\n",
       "21348     21349  2015-12-31  22:09:54\n",
       "21349     21350  2015-12-31  23:02:05\n",
       "\n",
       "[21350 rows x 3 columns]"
      ]
     },
     "execution_count": 2,
     "metadata": {},
     "output_type": "execute_result"
    }
   ],
   "source": [
    "pd.read_csv('orders.csv')"
   ]
  },
  {
   "cell_type": "code",
   "execution_count": 3,
   "id": "4bc0ceb9",
   "metadata": {},
   "outputs": [
    {
     "data": {
      "text/html": [
       "<div>\n",
       "<style scoped>\n",
       "    .dataframe tbody tr th:only-of-type {\n",
       "        vertical-align: middle;\n",
       "    }\n",
       "\n",
       "    .dataframe tbody tr th {\n",
       "        vertical-align: top;\n",
       "    }\n",
       "\n",
       "    .dataframe thead th {\n",
       "        text-align: right;\n",
       "    }\n",
       "</style>\n",
       "<table border=\"1\" class=\"dataframe\">\n",
       "  <thead>\n",
       "    <tr style=\"text-align: right;\">\n",
       "      <th></th>\n",
       "      <th>order_id</th>\n",
       "      <th>date</th>\n",
       "      <th>time</th>\n",
       "    </tr>\n",
       "  </thead>\n",
       "  <tbody>\n",
       "    <tr>\n",
       "      <th>0</th>\n",
       "      <td>1</td>\n",
       "      <td>2015-01-01</td>\n",
       "      <td>11:38:36</td>\n",
       "    </tr>\n",
       "    <tr>\n",
       "      <th>1</th>\n",
       "      <td>2</td>\n",
       "      <td>2015-01-01</td>\n",
       "      <td>11:57:40</td>\n",
       "    </tr>\n",
       "    <tr>\n",
       "      <th>2</th>\n",
       "      <td>3</td>\n",
       "      <td>2015-01-01</td>\n",
       "      <td>12:12:28</td>\n",
       "    </tr>\n",
       "    <tr>\n",
       "      <th>3</th>\n",
       "      <td>4</td>\n",
       "      <td>2015-01-01</td>\n",
       "      <td>12:16:31</td>\n",
       "    </tr>\n",
       "    <tr>\n",
       "      <th>4</th>\n",
       "      <td>5</td>\n",
       "      <td>2015-01-01</td>\n",
       "      <td>12:21:30</td>\n",
       "    </tr>\n",
       "  </tbody>\n",
       "</table>\n",
       "</div>"
      ],
      "text/plain": [
       "   order_id        date      time\n",
       "0         1  2015-01-01  11:38:36\n",
       "1         2  2015-01-01  11:57:40\n",
       "2         3  2015-01-01  12:12:28\n",
       "3         4  2015-01-01  12:16:31\n",
       "4         5  2015-01-01  12:21:30"
      ]
     },
     "execution_count": 3,
     "metadata": {},
     "output_type": "execute_result"
    }
   ],
   "source": [
    "order=pd.read_csv('orders.csv')\n",
    "order.head()"
   ]
  },
  {
   "cell_type": "code",
   "execution_count": 4,
   "id": "543e26b8",
   "metadata": {},
   "outputs": [
    {
     "data": {
      "text/html": [
       "<div>\n",
       "<style scoped>\n",
       "    .dataframe tbody tr th:only-of-type {\n",
       "        vertical-align: middle;\n",
       "    }\n",
       "\n",
       "    .dataframe tbody tr th {\n",
       "        vertical-align: top;\n",
       "    }\n",
       "\n",
       "    .dataframe thead th {\n",
       "        text-align: right;\n",
       "    }\n",
       "</style>\n",
       "<table border=\"1\" class=\"dataframe\">\n",
       "  <thead>\n",
       "    <tr style=\"text-align: right;\">\n",
       "      <th></th>\n",
       "      <th>order_details_id</th>\n",
       "      <th>order_id</th>\n",
       "      <th>pizza_id</th>\n",
       "      <th>quantity</th>\n",
       "    </tr>\n",
       "  </thead>\n",
       "  <tbody>\n",
       "    <tr>\n",
       "      <th>0</th>\n",
       "      <td>1</td>\n",
       "      <td>1</td>\n",
       "      <td>hawaiian_m</td>\n",
       "      <td>1</td>\n",
       "    </tr>\n",
       "    <tr>\n",
       "      <th>1</th>\n",
       "      <td>2</td>\n",
       "      <td>2</td>\n",
       "      <td>classic_dlx_m</td>\n",
       "      <td>1</td>\n",
       "    </tr>\n",
       "    <tr>\n",
       "      <th>2</th>\n",
       "      <td>3</td>\n",
       "      <td>2</td>\n",
       "      <td>five_cheese_l</td>\n",
       "      <td>1</td>\n",
       "    </tr>\n",
       "    <tr>\n",
       "      <th>3</th>\n",
       "      <td>4</td>\n",
       "      <td>2</td>\n",
       "      <td>ital_supr_l</td>\n",
       "      <td>1</td>\n",
       "    </tr>\n",
       "    <tr>\n",
       "      <th>4</th>\n",
       "      <td>5</td>\n",
       "      <td>2</td>\n",
       "      <td>mexicana_m</td>\n",
       "      <td>1</td>\n",
       "    </tr>\n",
       "    <tr>\n",
       "      <th>...</th>\n",
       "      <td>...</td>\n",
       "      <td>...</td>\n",
       "      <td>...</td>\n",
       "      <td>...</td>\n",
       "    </tr>\n",
       "    <tr>\n",
       "      <th>48615</th>\n",
       "      <td>48616</td>\n",
       "      <td>21348</td>\n",
       "      <td>ckn_alfredo_m</td>\n",
       "      <td>1</td>\n",
       "    </tr>\n",
       "    <tr>\n",
       "      <th>48616</th>\n",
       "      <td>48617</td>\n",
       "      <td>21348</td>\n",
       "      <td>four_cheese_l</td>\n",
       "      <td>1</td>\n",
       "    </tr>\n",
       "    <tr>\n",
       "      <th>48617</th>\n",
       "      <td>48618</td>\n",
       "      <td>21348</td>\n",
       "      <td>napolitana_s</td>\n",
       "      <td>1</td>\n",
       "    </tr>\n",
       "    <tr>\n",
       "      <th>48618</th>\n",
       "      <td>48619</td>\n",
       "      <td>21349</td>\n",
       "      <td>mexicana_l</td>\n",
       "      <td>1</td>\n",
       "    </tr>\n",
       "    <tr>\n",
       "      <th>48619</th>\n",
       "      <td>48620</td>\n",
       "      <td>21350</td>\n",
       "      <td>bbq_ckn_s</td>\n",
       "      <td>1</td>\n",
       "    </tr>\n",
       "  </tbody>\n",
       "</table>\n",
       "<p>48620 rows × 4 columns</p>\n",
       "</div>"
      ],
      "text/plain": [
       "       order_details_id  order_id       pizza_id  quantity\n",
       "0                     1         1     hawaiian_m         1\n",
       "1                     2         2  classic_dlx_m         1\n",
       "2                     3         2  five_cheese_l         1\n",
       "3                     4         2    ital_supr_l         1\n",
       "4                     5         2     mexicana_m         1\n",
       "...                 ...       ...            ...       ...\n",
       "48615             48616     21348  ckn_alfredo_m         1\n",
       "48616             48617     21348  four_cheese_l         1\n",
       "48617             48618     21348   napolitana_s         1\n",
       "48618             48619     21349     mexicana_l         1\n",
       "48619             48620     21350      bbq_ckn_s         1\n",
       "\n",
       "[48620 rows x 4 columns]"
      ]
     },
     "execution_count": 4,
     "metadata": {},
     "output_type": "execute_result"
    }
   ],
   "source": [
    "pd.read_csv('order_details.csv')"
   ]
  },
  {
   "cell_type": "code",
   "execution_count": 5,
   "id": "ca8f83d1",
   "metadata": {},
   "outputs": [
    {
     "data": {
      "text/html": [
       "<div>\n",
       "<style scoped>\n",
       "    .dataframe tbody tr th:only-of-type {\n",
       "        vertical-align: middle;\n",
       "    }\n",
       "\n",
       "    .dataframe tbody tr th {\n",
       "        vertical-align: top;\n",
       "    }\n",
       "\n",
       "    .dataframe thead th {\n",
       "        text-align: right;\n",
       "    }\n",
       "</style>\n",
       "<table border=\"1\" class=\"dataframe\">\n",
       "  <thead>\n",
       "    <tr style=\"text-align: right;\">\n",
       "      <th></th>\n",
       "      <th>order_details_id</th>\n",
       "      <th>order_id</th>\n",
       "      <th>pizza_id</th>\n",
       "      <th>quantity</th>\n",
       "    </tr>\n",
       "  </thead>\n",
       "  <tbody>\n",
       "    <tr>\n",
       "      <th>0</th>\n",
       "      <td>1</td>\n",
       "      <td>1</td>\n",
       "      <td>hawaiian_m</td>\n",
       "      <td>1</td>\n",
       "    </tr>\n",
       "    <tr>\n",
       "      <th>1</th>\n",
       "      <td>2</td>\n",
       "      <td>2</td>\n",
       "      <td>classic_dlx_m</td>\n",
       "      <td>1</td>\n",
       "    </tr>\n",
       "    <tr>\n",
       "      <th>2</th>\n",
       "      <td>3</td>\n",
       "      <td>2</td>\n",
       "      <td>five_cheese_l</td>\n",
       "      <td>1</td>\n",
       "    </tr>\n",
       "    <tr>\n",
       "      <th>3</th>\n",
       "      <td>4</td>\n",
       "      <td>2</td>\n",
       "      <td>ital_supr_l</td>\n",
       "      <td>1</td>\n",
       "    </tr>\n",
       "    <tr>\n",
       "      <th>4</th>\n",
       "      <td>5</td>\n",
       "      <td>2</td>\n",
       "      <td>mexicana_m</td>\n",
       "      <td>1</td>\n",
       "    </tr>\n",
       "  </tbody>\n",
       "</table>\n",
       "</div>"
      ],
      "text/plain": [
       "   order_details_id  order_id       pizza_id  quantity\n",
       "0                 1         1     hawaiian_m         1\n",
       "1                 2         2  classic_dlx_m         1\n",
       "2                 3         2  five_cheese_l         1\n",
       "3                 4         2    ital_supr_l         1\n",
       "4                 5         2     mexicana_m         1"
      ]
     },
     "execution_count": 5,
     "metadata": {},
     "output_type": "execute_result"
    }
   ],
   "source": [
    "order_details=pd.read_csv('order_details.csv')\n",
    "order_details.head(5)"
   ]
  },
  {
   "cell_type": "code",
   "execution_count": 6,
   "id": "fe71447c",
   "metadata": {},
   "outputs": [
    {
     "data": {
      "text/html": [
       "<div>\n",
       "<style scoped>\n",
       "    .dataframe tbody tr th:only-of-type {\n",
       "        vertical-align: middle;\n",
       "    }\n",
       "\n",
       "    .dataframe tbody tr th {\n",
       "        vertical-align: top;\n",
       "    }\n",
       "\n",
       "    .dataframe thead th {\n",
       "        text-align: right;\n",
       "    }\n",
       "</style>\n",
       "<table border=\"1\" class=\"dataframe\">\n",
       "  <thead>\n",
       "    <tr style=\"text-align: right;\">\n",
       "      <th></th>\n",
       "      <th>pizza_id</th>\n",
       "      <th>pizza_type_id</th>\n",
       "      <th>size</th>\n",
       "      <th>price</th>\n",
       "    </tr>\n",
       "  </thead>\n",
       "  <tbody>\n",
       "    <tr>\n",
       "      <th>0</th>\n",
       "      <td>bbq_ckn_s</td>\n",
       "      <td>bbq_ckn</td>\n",
       "      <td>S</td>\n",
       "      <td>12.75</td>\n",
       "    </tr>\n",
       "    <tr>\n",
       "      <th>1</th>\n",
       "      <td>bbq_ckn_m</td>\n",
       "      <td>bbq_ckn</td>\n",
       "      <td>M</td>\n",
       "      <td>16.75</td>\n",
       "    </tr>\n",
       "    <tr>\n",
       "      <th>2</th>\n",
       "      <td>bbq_ckn_l</td>\n",
       "      <td>bbq_ckn</td>\n",
       "      <td>L</td>\n",
       "      <td>20.75</td>\n",
       "    </tr>\n",
       "    <tr>\n",
       "      <th>3</th>\n",
       "      <td>cali_ckn_s</td>\n",
       "      <td>cali_ckn</td>\n",
       "      <td>S</td>\n",
       "      <td>12.75</td>\n",
       "    </tr>\n",
       "    <tr>\n",
       "      <th>4</th>\n",
       "      <td>cali_ckn_m</td>\n",
       "      <td>cali_ckn</td>\n",
       "      <td>M</td>\n",
       "      <td>16.75</td>\n",
       "    </tr>\n",
       "    <tr>\n",
       "      <th>...</th>\n",
       "      <td>...</td>\n",
       "      <td>...</td>\n",
       "      <td>...</td>\n",
       "      <td>...</td>\n",
       "    </tr>\n",
       "    <tr>\n",
       "      <th>91</th>\n",
       "      <td>spinach_fet_m</td>\n",
       "      <td>spinach_fet</td>\n",
       "      <td>M</td>\n",
       "      <td>16.00</td>\n",
       "    </tr>\n",
       "    <tr>\n",
       "      <th>92</th>\n",
       "      <td>spinach_fet_l</td>\n",
       "      <td>spinach_fet</td>\n",
       "      <td>L</td>\n",
       "      <td>20.25</td>\n",
       "    </tr>\n",
       "    <tr>\n",
       "      <th>93</th>\n",
       "      <td>veggie_veg_s</td>\n",
       "      <td>veggie_veg</td>\n",
       "      <td>S</td>\n",
       "      <td>12.00</td>\n",
       "    </tr>\n",
       "    <tr>\n",
       "      <th>94</th>\n",
       "      <td>veggie_veg_m</td>\n",
       "      <td>veggie_veg</td>\n",
       "      <td>M</td>\n",
       "      <td>16.00</td>\n",
       "    </tr>\n",
       "    <tr>\n",
       "      <th>95</th>\n",
       "      <td>veggie_veg_l</td>\n",
       "      <td>veggie_veg</td>\n",
       "      <td>L</td>\n",
       "      <td>20.25</td>\n",
       "    </tr>\n",
       "  </tbody>\n",
       "</table>\n",
       "<p>96 rows × 4 columns</p>\n",
       "</div>"
      ],
      "text/plain": [
       "         pizza_id pizza_type_id size  price\n",
       "0       bbq_ckn_s       bbq_ckn    S  12.75\n",
       "1       bbq_ckn_m       bbq_ckn    M  16.75\n",
       "2       bbq_ckn_l       bbq_ckn    L  20.75\n",
       "3      cali_ckn_s      cali_ckn    S  12.75\n",
       "4      cali_ckn_m      cali_ckn    M  16.75\n",
       "..            ...           ...  ...    ...\n",
       "91  spinach_fet_m   spinach_fet    M  16.00\n",
       "92  spinach_fet_l   spinach_fet    L  20.25\n",
       "93   veggie_veg_s    veggie_veg    S  12.00\n",
       "94   veggie_veg_m    veggie_veg    M  16.00\n",
       "95   veggie_veg_l    veggie_veg    L  20.25\n",
       "\n",
       "[96 rows x 4 columns]"
      ]
     },
     "execution_count": 6,
     "metadata": {},
     "output_type": "execute_result"
    }
   ],
   "source": [
    "pd.read_csv('pizzas.csv')"
   ]
  },
  {
   "cell_type": "code",
   "execution_count": 7,
   "id": "bd15a135",
   "metadata": {},
   "outputs": [
    {
     "data": {
      "text/html": [
       "<div>\n",
       "<style scoped>\n",
       "    .dataframe tbody tr th:only-of-type {\n",
       "        vertical-align: middle;\n",
       "    }\n",
       "\n",
       "    .dataframe tbody tr th {\n",
       "        vertical-align: top;\n",
       "    }\n",
       "\n",
       "    .dataframe thead th {\n",
       "        text-align: right;\n",
       "    }\n",
       "</style>\n",
       "<table border=\"1\" class=\"dataframe\">\n",
       "  <thead>\n",
       "    <tr style=\"text-align: right;\">\n",
       "      <th></th>\n",
       "      <th>pizza_id</th>\n",
       "      <th>pizza_type_id</th>\n",
       "      <th>size</th>\n",
       "      <th>price</th>\n",
       "    </tr>\n",
       "  </thead>\n",
       "  <tbody>\n",
       "    <tr>\n",
       "      <th>0</th>\n",
       "      <td>bbq_ckn_s</td>\n",
       "      <td>bbq_ckn</td>\n",
       "      <td>S</td>\n",
       "      <td>12.75</td>\n",
       "    </tr>\n",
       "    <tr>\n",
       "      <th>1</th>\n",
       "      <td>bbq_ckn_m</td>\n",
       "      <td>bbq_ckn</td>\n",
       "      <td>M</td>\n",
       "      <td>16.75</td>\n",
       "    </tr>\n",
       "    <tr>\n",
       "      <th>2</th>\n",
       "      <td>bbq_ckn_l</td>\n",
       "      <td>bbq_ckn</td>\n",
       "      <td>L</td>\n",
       "      <td>20.75</td>\n",
       "    </tr>\n",
       "    <tr>\n",
       "      <th>3</th>\n",
       "      <td>cali_ckn_s</td>\n",
       "      <td>cali_ckn</td>\n",
       "      <td>S</td>\n",
       "      <td>12.75</td>\n",
       "    </tr>\n",
       "    <tr>\n",
       "      <th>4</th>\n",
       "      <td>cali_ckn_m</td>\n",
       "      <td>cali_ckn</td>\n",
       "      <td>M</td>\n",
       "      <td>16.75</td>\n",
       "    </tr>\n",
       "  </tbody>\n",
       "</table>\n",
       "</div>"
      ],
      "text/plain": [
       "     pizza_id pizza_type_id size  price\n",
       "0   bbq_ckn_s       bbq_ckn    S  12.75\n",
       "1   bbq_ckn_m       bbq_ckn    M  16.75\n",
       "2   bbq_ckn_l       bbq_ckn    L  20.75\n",
       "3  cali_ckn_s      cali_ckn    S  12.75\n",
       "4  cali_ckn_m      cali_ckn    M  16.75"
      ]
     },
     "execution_count": 7,
     "metadata": {},
     "output_type": "execute_result"
    }
   ],
   "source": [
    "pizza=pd.read_csv('pizzas.csv')\n",
    "pizza.head()"
   ]
  },
  {
   "cell_type": "code",
   "execution_count": 8,
   "id": "259bed01",
   "metadata": {},
   "outputs": [
    {
     "data": {
      "text/html": [
       "<div>\n",
       "<style scoped>\n",
       "    .dataframe tbody tr th:only-of-type {\n",
       "        vertical-align: middle;\n",
       "    }\n",
       "\n",
       "    .dataframe tbody tr th {\n",
       "        vertical-align: top;\n",
       "    }\n",
       "\n",
       "    .dataframe thead th {\n",
       "        text-align: right;\n",
       "    }\n",
       "</style>\n",
       "<table border=\"1\" class=\"dataframe\">\n",
       "  <thead>\n",
       "    <tr style=\"text-align: right;\">\n",
       "      <th></th>\n",
       "      <th>pizza_type_id</th>\n",
       "      <th>name</th>\n",
       "      <th>category</th>\n",
       "      <th>ingredients</th>\n",
       "    </tr>\n",
       "  </thead>\n",
       "  <tbody>\n",
       "    <tr>\n",
       "      <th>0</th>\n",
       "      <td>bbq_ckn</td>\n",
       "      <td>The Barbecue Chicken Pizza</td>\n",
       "      <td>Chicken</td>\n",
       "      <td>Barbecued Chicken, Red Peppers, Green Peppers,...</td>\n",
       "    </tr>\n",
       "    <tr>\n",
       "      <th>1</th>\n",
       "      <td>cali_ckn</td>\n",
       "      <td>The California Chicken Pizza</td>\n",
       "      <td>Chicken</td>\n",
       "      <td>Chicken, Artichoke, Spinach, Garlic, Jalapeno ...</td>\n",
       "    </tr>\n",
       "    <tr>\n",
       "      <th>2</th>\n",
       "      <td>ckn_alfredo</td>\n",
       "      <td>The Chicken Alfredo Pizza</td>\n",
       "      <td>Chicken</td>\n",
       "      <td>Chicken, Red Onions, Red Peppers, Mushrooms, A...</td>\n",
       "    </tr>\n",
       "    <tr>\n",
       "      <th>3</th>\n",
       "      <td>ckn_pesto</td>\n",
       "      <td>The Chicken Pesto Pizza</td>\n",
       "      <td>Chicken</td>\n",
       "      <td>Chicken, Tomatoes, Red Peppers, Spinach, Garli...</td>\n",
       "    </tr>\n",
       "    <tr>\n",
       "      <th>4</th>\n",
       "      <td>southw_ckn</td>\n",
       "      <td>The Southwest Chicken Pizza</td>\n",
       "      <td>Chicken</td>\n",
       "      <td>Chicken, Tomatoes, Red Peppers, Red Onions, Ja...</td>\n",
       "    </tr>\n",
       "    <tr>\n",
       "      <th>5</th>\n",
       "      <td>thai_ckn</td>\n",
       "      <td>The Thai Chicken Pizza</td>\n",
       "      <td>Chicken</td>\n",
       "      <td>Chicken, Pineapple, Tomatoes, Red Peppers, Tha...</td>\n",
       "    </tr>\n",
       "    <tr>\n",
       "      <th>6</th>\n",
       "      <td>big_meat</td>\n",
       "      <td>The Big Meat Pizza</td>\n",
       "      <td>Classic</td>\n",
       "      <td>Bacon, Pepperoni, Italian Sausage, Chorizo Sau...</td>\n",
       "    </tr>\n",
       "    <tr>\n",
       "      <th>7</th>\n",
       "      <td>classic_dlx</td>\n",
       "      <td>The Classic Deluxe Pizza</td>\n",
       "      <td>Classic</td>\n",
       "      <td>Pepperoni, Mushrooms, Red Onions, Red Peppers,...</td>\n",
       "    </tr>\n",
       "    <tr>\n",
       "      <th>8</th>\n",
       "      <td>hawaiian</td>\n",
       "      <td>The Hawaiian Pizza</td>\n",
       "      <td>Classic</td>\n",
       "      <td>Sliced Ham, Pineapple, Mozzarella Cheese</td>\n",
       "    </tr>\n",
       "    <tr>\n",
       "      <th>9</th>\n",
       "      <td>ital_cpcllo</td>\n",
       "      <td>The Italian Capocollo Pizza</td>\n",
       "      <td>Classic</td>\n",
       "      <td>Capocollo, Red Peppers, Tomatoes, Goat Cheese,...</td>\n",
       "    </tr>\n",
       "    <tr>\n",
       "      <th>10</th>\n",
       "      <td>napolitana</td>\n",
       "      <td>The Napolitana Pizza</td>\n",
       "      <td>Classic</td>\n",
       "      <td>Tomatoes, Anchovies, Green Olives, Red Onions,...</td>\n",
       "    </tr>\n",
       "    <tr>\n",
       "      <th>11</th>\n",
       "      <td>pep_msh_pep</td>\n",
       "      <td>The Pepperoni, Mushroom, and Peppers Pizza</td>\n",
       "      <td>Classic</td>\n",
       "      <td>Pepperoni, Mushrooms, Green Peppers</td>\n",
       "    </tr>\n",
       "    <tr>\n",
       "      <th>12</th>\n",
       "      <td>pepperoni</td>\n",
       "      <td>The Pepperoni Pizza</td>\n",
       "      <td>Classic</td>\n",
       "      <td>Mozzarella Cheese, Pepperoni</td>\n",
       "    </tr>\n",
       "    <tr>\n",
       "      <th>13</th>\n",
       "      <td>the_greek</td>\n",
       "      <td>The Greek Pizza</td>\n",
       "      <td>Classic</td>\n",
       "      <td>Kalamata Olives, Feta Cheese, Tomatoes, Garlic...</td>\n",
       "    </tr>\n",
       "    <tr>\n",
       "      <th>14</th>\n",
       "      <td>brie_carre</td>\n",
       "      <td>The Brie Carre Pizza</td>\n",
       "      <td>Supreme</td>\n",
       "      <td>Brie Carre Cheese, Prosciutto, Caramelized Oni...</td>\n",
       "    </tr>\n",
       "    <tr>\n",
       "      <th>15</th>\n",
       "      <td>calabrese</td>\n",
       "      <td>The Calabrese Pizza</td>\n",
       "      <td>Supreme</td>\n",
       "      <td>Nduja Salami, Pancetta, Tomatoes, Red Onions,...</td>\n",
       "    </tr>\n",
       "    <tr>\n",
       "      <th>16</th>\n",
       "      <td>ital_supr</td>\n",
       "      <td>The Italian Supreme Pizza</td>\n",
       "      <td>Supreme</td>\n",
       "      <td>Calabrese Salami, Capocollo, Tomatoes, Red Oni...</td>\n",
       "    </tr>\n",
       "    <tr>\n",
       "      <th>17</th>\n",
       "      <td>peppr_salami</td>\n",
       "      <td>The Pepper Salami Pizza</td>\n",
       "      <td>Supreme</td>\n",
       "      <td>Genoa Salami, Capocollo, Pepperoni, Tomatoes, ...</td>\n",
       "    </tr>\n",
       "    <tr>\n",
       "      <th>18</th>\n",
       "      <td>prsc_argla</td>\n",
       "      <td>The Prosciutto and Arugula Pizza</td>\n",
       "      <td>Supreme</td>\n",
       "      <td>Prosciutto di San Daniele, Arugula, Mozzarella...</td>\n",
       "    </tr>\n",
       "    <tr>\n",
       "      <th>19</th>\n",
       "      <td>sicilian</td>\n",
       "      <td>The Sicilian Pizza</td>\n",
       "      <td>Supreme</td>\n",
       "      <td>Coarse Sicilian Salami, Tomatoes, Green Olives...</td>\n",
       "    </tr>\n",
       "    <tr>\n",
       "      <th>20</th>\n",
       "      <td>soppressata</td>\n",
       "      <td>The Soppressata Pizza</td>\n",
       "      <td>Supreme</td>\n",
       "      <td>Soppressata Salami, Fontina Cheese, Mozzarella...</td>\n",
       "    </tr>\n",
       "    <tr>\n",
       "      <th>21</th>\n",
       "      <td>spicy_ital</td>\n",
       "      <td>The Spicy Italian Pizza</td>\n",
       "      <td>Supreme</td>\n",
       "      <td>Capocollo, Tomatoes, Goat Cheese, Artichokes, ...</td>\n",
       "    </tr>\n",
       "    <tr>\n",
       "      <th>22</th>\n",
       "      <td>spinach_supr</td>\n",
       "      <td>The Spinach Supreme Pizza</td>\n",
       "      <td>Supreme</td>\n",
       "      <td>Spinach, Red Onions, Pepperoni, Tomatoes, Arti...</td>\n",
       "    </tr>\n",
       "    <tr>\n",
       "      <th>23</th>\n",
       "      <td>five_cheese</td>\n",
       "      <td>The Five Cheese Pizza</td>\n",
       "      <td>Veggie</td>\n",
       "      <td>Mozzarella Cheese, Provolone Cheese, Smoked Go...</td>\n",
       "    </tr>\n",
       "    <tr>\n",
       "      <th>24</th>\n",
       "      <td>four_cheese</td>\n",
       "      <td>The Four Cheese Pizza</td>\n",
       "      <td>Veggie</td>\n",
       "      <td>Ricotta Cheese, Gorgonzola Piccante Cheese, Mo...</td>\n",
       "    </tr>\n",
       "    <tr>\n",
       "      <th>25</th>\n",
       "      <td>green_garden</td>\n",
       "      <td>The Green Garden Pizza</td>\n",
       "      <td>Veggie</td>\n",
       "      <td>Spinach, Mushrooms, Tomatoes, Green Olives, Fe...</td>\n",
       "    </tr>\n",
       "    <tr>\n",
       "      <th>26</th>\n",
       "      <td>ital_veggie</td>\n",
       "      <td>The Italian Vegetables Pizza</td>\n",
       "      <td>Veggie</td>\n",
       "      <td>Eggplant, Artichokes, Tomatoes, Zucchini, Red ...</td>\n",
       "    </tr>\n",
       "    <tr>\n",
       "      <th>27</th>\n",
       "      <td>mediterraneo</td>\n",
       "      <td>The Mediterranean Pizza</td>\n",
       "      <td>Veggie</td>\n",
       "      <td>Spinach, Artichokes, Kalamata Olives, Sun-drie...</td>\n",
       "    </tr>\n",
       "    <tr>\n",
       "      <th>28</th>\n",
       "      <td>mexicana</td>\n",
       "      <td>The Mexicana Pizza</td>\n",
       "      <td>Veggie</td>\n",
       "      <td>Tomatoes, Red Peppers, Jalapeno Peppers, Red O...</td>\n",
       "    </tr>\n",
       "    <tr>\n",
       "      <th>29</th>\n",
       "      <td>spin_pesto</td>\n",
       "      <td>The Spinach Pesto Pizza</td>\n",
       "      <td>Veggie</td>\n",
       "      <td>Spinach, Artichokes, Tomatoes, Sun-dried Tomat...</td>\n",
       "    </tr>\n",
       "    <tr>\n",
       "      <th>30</th>\n",
       "      <td>spinach_fet</td>\n",
       "      <td>The Spinach and Feta Pizza</td>\n",
       "      <td>Veggie</td>\n",
       "      <td>Spinach, Mushrooms, Red Onions, Feta Cheese, G...</td>\n",
       "    </tr>\n",
       "    <tr>\n",
       "      <th>31</th>\n",
       "      <td>veggie_veg</td>\n",
       "      <td>The Vegetables + Vegetables Pizza</td>\n",
       "      <td>Veggie</td>\n",
       "      <td>Mushrooms, Tomatoes, Red Peppers, Green Pepper...</td>\n",
       "    </tr>\n",
       "  </tbody>\n",
       "</table>\n",
       "</div>"
      ],
      "text/plain": [
       "   pizza_type_id                                        name category  \\\n",
       "0        bbq_ckn                  The Barbecue Chicken Pizza  Chicken   \n",
       "1       cali_ckn                The California Chicken Pizza  Chicken   \n",
       "2    ckn_alfredo                   The Chicken Alfredo Pizza  Chicken   \n",
       "3      ckn_pesto                     The Chicken Pesto Pizza  Chicken   \n",
       "4     southw_ckn                 The Southwest Chicken Pizza  Chicken   \n",
       "5       thai_ckn                      The Thai Chicken Pizza  Chicken   \n",
       "6       big_meat                          The Big Meat Pizza  Classic   \n",
       "7    classic_dlx                    The Classic Deluxe Pizza  Classic   \n",
       "8       hawaiian                          The Hawaiian Pizza  Classic   \n",
       "9    ital_cpcllo                 The Italian Capocollo Pizza  Classic   \n",
       "10    napolitana                        The Napolitana Pizza  Classic   \n",
       "11   pep_msh_pep  The Pepperoni, Mushroom, and Peppers Pizza  Classic   \n",
       "12     pepperoni                         The Pepperoni Pizza  Classic   \n",
       "13     the_greek                             The Greek Pizza  Classic   \n",
       "14    brie_carre                        The Brie Carre Pizza  Supreme   \n",
       "15     calabrese                         The Calabrese Pizza  Supreme   \n",
       "16     ital_supr                   The Italian Supreme Pizza  Supreme   \n",
       "17  peppr_salami                     The Pepper Salami Pizza  Supreme   \n",
       "18    prsc_argla            The Prosciutto and Arugula Pizza  Supreme   \n",
       "19      sicilian                          The Sicilian Pizza  Supreme   \n",
       "20   soppressata                       The Soppressata Pizza  Supreme   \n",
       "21    spicy_ital                     The Spicy Italian Pizza  Supreme   \n",
       "22  spinach_supr                   The Spinach Supreme Pizza  Supreme   \n",
       "23   five_cheese                       The Five Cheese Pizza   Veggie   \n",
       "24   four_cheese                       The Four Cheese Pizza   Veggie   \n",
       "25  green_garden                      The Green Garden Pizza   Veggie   \n",
       "26   ital_veggie                The Italian Vegetables Pizza   Veggie   \n",
       "27  mediterraneo                     The Mediterranean Pizza   Veggie   \n",
       "28      mexicana                          The Mexicana Pizza   Veggie   \n",
       "29    spin_pesto                     The Spinach Pesto Pizza   Veggie   \n",
       "30   spinach_fet                  The Spinach and Feta Pizza   Veggie   \n",
       "31    veggie_veg           The Vegetables + Vegetables Pizza   Veggie   \n",
       "\n",
       "                                          ingredients  \n",
       "0   Barbecued Chicken, Red Peppers, Green Peppers,...  \n",
       "1   Chicken, Artichoke, Spinach, Garlic, Jalapeno ...  \n",
       "2   Chicken, Red Onions, Red Peppers, Mushrooms, A...  \n",
       "3   Chicken, Tomatoes, Red Peppers, Spinach, Garli...  \n",
       "4   Chicken, Tomatoes, Red Peppers, Red Onions, Ja...  \n",
       "5   Chicken, Pineapple, Tomatoes, Red Peppers, Tha...  \n",
       "6   Bacon, Pepperoni, Italian Sausage, Chorizo Sau...  \n",
       "7   Pepperoni, Mushrooms, Red Onions, Red Peppers,...  \n",
       "8            Sliced Ham, Pineapple, Mozzarella Cheese  \n",
       "9   Capocollo, Red Peppers, Tomatoes, Goat Cheese,...  \n",
       "10  Tomatoes, Anchovies, Green Olives, Red Onions,...  \n",
       "11                Pepperoni, Mushrooms, Green Peppers  \n",
       "12                       Mozzarella Cheese, Pepperoni  \n",
       "13  Kalamata Olives, Feta Cheese, Tomatoes, Garlic...  \n",
       "14  Brie Carre Cheese, Prosciutto, Caramelized Oni...  \n",
       "15  Nduja Salami, Pancetta, Tomatoes, Red Onions,...  \n",
       "16  Calabrese Salami, Capocollo, Tomatoes, Red Oni...  \n",
       "17  Genoa Salami, Capocollo, Pepperoni, Tomatoes, ...  \n",
       "18  Prosciutto di San Daniele, Arugula, Mozzarella...  \n",
       "19  Coarse Sicilian Salami, Tomatoes, Green Olives...  \n",
       "20  Soppressata Salami, Fontina Cheese, Mozzarella...  \n",
       "21  Capocollo, Tomatoes, Goat Cheese, Artichokes, ...  \n",
       "22  Spinach, Red Onions, Pepperoni, Tomatoes, Arti...  \n",
       "23  Mozzarella Cheese, Provolone Cheese, Smoked Go...  \n",
       "24  Ricotta Cheese, Gorgonzola Piccante Cheese, Mo...  \n",
       "25  Spinach, Mushrooms, Tomatoes, Green Olives, Fe...  \n",
       "26  Eggplant, Artichokes, Tomatoes, Zucchini, Red ...  \n",
       "27  Spinach, Artichokes, Kalamata Olives, Sun-drie...  \n",
       "28  Tomatoes, Red Peppers, Jalapeno Peppers, Red O...  \n",
       "29  Spinach, Artichokes, Tomatoes, Sun-dried Tomat...  \n",
       "30  Spinach, Mushrooms, Red Onions, Feta Cheese, G...  \n",
       "31  Mushrooms, Tomatoes, Red Peppers, Green Pepper...  "
      ]
     },
     "execution_count": 8,
     "metadata": {},
     "output_type": "execute_result"
    }
   ],
   "source": [
    "pd.read_csv('pizza_types.csv',encoding='latin')"
   ]
  },
  {
   "cell_type": "code",
   "execution_count": 9,
   "id": "d64d43a0",
   "metadata": {},
   "outputs": [
    {
     "data": {
      "text/html": [
       "<div>\n",
       "<style scoped>\n",
       "    .dataframe tbody tr th:only-of-type {\n",
       "        vertical-align: middle;\n",
       "    }\n",
       "\n",
       "    .dataframe tbody tr th {\n",
       "        vertical-align: top;\n",
       "    }\n",
       "\n",
       "    .dataframe thead th {\n",
       "        text-align: right;\n",
       "    }\n",
       "</style>\n",
       "<table border=\"1\" class=\"dataframe\">\n",
       "  <thead>\n",
       "    <tr style=\"text-align: right;\">\n",
       "      <th></th>\n",
       "      <th>pizza_type_id</th>\n",
       "      <th>name</th>\n",
       "      <th>category</th>\n",
       "      <th>ingredients</th>\n",
       "    </tr>\n",
       "  </thead>\n",
       "  <tbody>\n",
       "    <tr>\n",
       "      <th>0</th>\n",
       "      <td>bbq_ckn</td>\n",
       "      <td>The Barbecue Chicken Pizza</td>\n",
       "      <td>Chicken</td>\n",
       "      <td>Barbecued Chicken, Red Peppers, Green Peppers,...</td>\n",
       "    </tr>\n",
       "    <tr>\n",
       "      <th>1</th>\n",
       "      <td>cali_ckn</td>\n",
       "      <td>The California Chicken Pizza</td>\n",
       "      <td>Chicken</td>\n",
       "      <td>Chicken, Artichoke, Spinach, Garlic, Jalapeno ...</td>\n",
       "    </tr>\n",
       "    <tr>\n",
       "      <th>2</th>\n",
       "      <td>ckn_alfredo</td>\n",
       "      <td>The Chicken Alfredo Pizza</td>\n",
       "      <td>Chicken</td>\n",
       "      <td>Chicken, Red Onions, Red Peppers, Mushrooms, A...</td>\n",
       "    </tr>\n",
       "    <tr>\n",
       "      <th>3</th>\n",
       "      <td>ckn_pesto</td>\n",
       "      <td>The Chicken Pesto Pizza</td>\n",
       "      <td>Chicken</td>\n",
       "      <td>Chicken, Tomatoes, Red Peppers, Spinach, Garli...</td>\n",
       "    </tr>\n",
       "    <tr>\n",
       "      <th>4</th>\n",
       "      <td>southw_ckn</td>\n",
       "      <td>The Southwest Chicken Pizza</td>\n",
       "      <td>Chicken</td>\n",
       "      <td>Chicken, Tomatoes, Red Peppers, Red Onions, Ja...</td>\n",
       "    </tr>\n",
       "  </tbody>\n",
       "</table>\n",
       "</div>"
      ],
      "text/plain": [
       "  pizza_type_id                          name category  \\\n",
       "0       bbq_ckn    The Barbecue Chicken Pizza  Chicken   \n",
       "1      cali_ckn  The California Chicken Pizza  Chicken   \n",
       "2   ckn_alfredo     The Chicken Alfredo Pizza  Chicken   \n",
       "3     ckn_pesto       The Chicken Pesto Pizza  Chicken   \n",
       "4    southw_ckn   The Southwest Chicken Pizza  Chicken   \n",
       "\n",
       "                                         ingredients  \n",
       "0  Barbecued Chicken, Red Peppers, Green Peppers,...  \n",
       "1  Chicken, Artichoke, Spinach, Garlic, Jalapeno ...  \n",
       "2  Chicken, Red Onions, Red Peppers, Mushrooms, A...  \n",
       "3  Chicken, Tomatoes, Red Peppers, Spinach, Garli...  \n",
       "4  Chicken, Tomatoes, Red Peppers, Red Onions, Ja...  "
      ]
     },
     "execution_count": 9,
     "metadata": {},
     "output_type": "execute_result"
    }
   ],
   "source": [
    "pizza_type=pd.read_csv('pizza_types.csv',encoding='latin')\n",
    "pizza_type.head()"
   ]
  },
  {
   "cell_type": "markdown",
   "id": "e7a97417",
   "metadata": {},
   "source": [
    "## Feature Engineering"
   ]
  },
  {
   "cell_type": "code",
   "execution_count": 10,
   "id": "5ce5357c",
   "metadata": {},
   "outputs": [
    {
     "name": "stdout",
     "output_type": "stream",
     "text": [
      "Index(['order_id', 'date', 'time'], dtype='object')\n",
      "Index(['order_details_id', 'order_id', 'pizza_id', 'quantity'], dtype='object')\n",
      "Index(['pizza_id', 'pizza_type_id', 'size', 'price'], dtype='object')\n",
      "Index(['pizza_type_id', 'name', 'category', 'ingredients'], dtype='object')\n"
     ]
    }
   ],
   "source": [
    "print(order.columns)\n",
    "print(order_details.columns)\n",
    "print(pizza.columns)\n",
    "print(pizza_type.columns)"
   ]
  },
  {
   "cell_type": "code",
   "execution_count": 11,
   "id": "bad0b00a",
   "metadata": {},
   "outputs": [],
   "source": [
    "pizza_df=order.merge(order_details,on='order_id').merge(pizza,on='pizza_id').merge(pizza_type,on='pizza_type_id')"
   ]
  },
  {
   "cell_type": "code",
   "execution_count": 12,
   "id": "56df0778",
   "metadata": {},
   "outputs": [
    {
     "data": {
      "text/html": [
       "<div>\n",
       "<style scoped>\n",
       "    .dataframe tbody tr th:only-of-type {\n",
       "        vertical-align: middle;\n",
       "    }\n",
       "\n",
       "    .dataframe tbody tr th {\n",
       "        vertical-align: top;\n",
       "    }\n",
       "\n",
       "    .dataframe thead th {\n",
       "        text-align: right;\n",
       "    }\n",
       "</style>\n",
       "<table border=\"1\" class=\"dataframe\">\n",
       "  <thead>\n",
       "    <tr style=\"text-align: right;\">\n",
       "      <th></th>\n",
       "      <th>order_id</th>\n",
       "      <th>date</th>\n",
       "      <th>time</th>\n",
       "      <th>order_details_id</th>\n",
       "      <th>pizza_id</th>\n",
       "      <th>quantity</th>\n",
       "      <th>pizza_type_id</th>\n",
       "      <th>size</th>\n",
       "      <th>price</th>\n",
       "      <th>name</th>\n",
       "      <th>category</th>\n",
       "      <th>ingredients</th>\n",
       "    </tr>\n",
       "  </thead>\n",
       "  <tbody>\n",
       "    <tr>\n",
       "      <th>0</th>\n",
       "      <td>1</td>\n",
       "      <td>2015-01-01</td>\n",
       "      <td>11:38:36</td>\n",
       "      <td>1</td>\n",
       "      <td>hawaiian_m</td>\n",
       "      <td>1</td>\n",
       "      <td>hawaiian</td>\n",
       "      <td>M</td>\n",
       "      <td>13.25</td>\n",
       "      <td>The Hawaiian Pizza</td>\n",
       "      <td>Classic</td>\n",
       "      <td>Sliced Ham, Pineapple, Mozzarella Cheese</td>\n",
       "    </tr>\n",
       "    <tr>\n",
       "      <th>1</th>\n",
       "      <td>77</td>\n",
       "      <td>2015-01-02</td>\n",
       "      <td>12:22:46</td>\n",
       "      <td>179</td>\n",
       "      <td>hawaiian_m</td>\n",
       "      <td>1</td>\n",
       "      <td>hawaiian</td>\n",
       "      <td>M</td>\n",
       "      <td>13.25</td>\n",
       "      <td>The Hawaiian Pizza</td>\n",
       "      <td>Classic</td>\n",
       "      <td>Sliced Ham, Pineapple, Mozzarella Cheese</td>\n",
       "    </tr>\n",
       "    <tr>\n",
       "      <th>2</th>\n",
       "      <td>146</td>\n",
       "      <td>2015-01-03</td>\n",
       "      <td>14:22:10</td>\n",
       "      <td>357</td>\n",
       "      <td>hawaiian_m</td>\n",
       "      <td>1</td>\n",
       "      <td>hawaiian</td>\n",
       "      <td>M</td>\n",
       "      <td>13.25</td>\n",
       "      <td>The Hawaiian Pizza</td>\n",
       "      <td>Classic</td>\n",
       "      <td>Sliced Ham, Pineapple, Mozzarella Cheese</td>\n",
       "    </tr>\n",
       "    <tr>\n",
       "      <th>3</th>\n",
       "      <td>163</td>\n",
       "      <td>2015-01-03</td>\n",
       "      <td>16:54:54</td>\n",
       "      <td>389</td>\n",
       "      <td>hawaiian_m</td>\n",
       "      <td>1</td>\n",
       "      <td>hawaiian</td>\n",
       "      <td>M</td>\n",
       "      <td>13.25</td>\n",
       "      <td>The Hawaiian Pizza</td>\n",
       "      <td>Classic</td>\n",
       "      <td>Sliced Ham, Pineapple, Mozzarella Cheese</td>\n",
       "    </tr>\n",
       "    <tr>\n",
       "      <th>4</th>\n",
       "      <td>247</td>\n",
       "      <td>2015-01-04</td>\n",
       "      <td>20:55:29</td>\n",
       "      <td>568</td>\n",
       "      <td>hawaiian_m</td>\n",
       "      <td>1</td>\n",
       "      <td>hawaiian</td>\n",
       "      <td>M</td>\n",
       "      <td>13.25</td>\n",
       "      <td>The Hawaiian Pizza</td>\n",
       "      <td>Classic</td>\n",
       "      <td>Sliced Ham, Pineapple, Mozzarella Cheese</td>\n",
       "    </tr>\n",
       "    <tr>\n",
       "      <th>...</th>\n",
       "      <td>...</td>\n",
       "      <td>...</td>\n",
       "      <td>...</td>\n",
       "      <td>...</td>\n",
       "      <td>...</td>\n",
       "      <td>...</td>\n",
       "      <td>...</td>\n",
       "      <td>...</td>\n",
       "      <td>...</td>\n",
       "      <td>...</td>\n",
       "      <td>...</td>\n",
       "      <td>...</td>\n",
       "    </tr>\n",
       "    <tr>\n",
       "      <th>48615</th>\n",
       "      <td>21167</td>\n",
       "      <td>2015-12-27</td>\n",
       "      <td>17:39:57</td>\n",
       "      <td>48176</td>\n",
       "      <td>brie_carre_s</td>\n",
       "      <td>1</td>\n",
       "      <td>brie_carre</td>\n",
       "      <td>S</td>\n",
       "      <td>23.65</td>\n",
       "      <td>The Brie Carre Pizza</td>\n",
       "      <td>Supreme</td>\n",
       "      <td>Brie Carre Cheese, Prosciutto, Caramelized Oni...</td>\n",
       "    </tr>\n",
       "    <tr>\n",
       "      <th>48616</th>\n",
       "      <td>21198</td>\n",
       "      <td>2015-12-28</td>\n",
       "      <td>15:39:02</td>\n",
       "      <td>48244</td>\n",
       "      <td>brie_carre_s</td>\n",
       "      <td>1</td>\n",
       "      <td>brie_carre</td>\n",
       "      <td>S</td>\n",
       "      <td>23.65</td>\n",
       "      <td>The Brie Carre Pizza</td>\n",
       "      <td>Supreme</td>\n",
       "      <td>Brie Carre Cheese, Prosciutto, Caramelized Oni...</td>\n",
       "    </tr>\n",
       "    <tr>\n",
       "      <th>48617</th>\n",
       "      <td>21225</td>\n",
       "      <td>2015-12-29</td>\n",
       "      <td>13:20:17</td>\n",
       "      <td>48311</td>\n",
       "      <td>brie_carre_s</td>\n",
       "      <td>1</td>\n",
       "      <td>brie_carre</td>\n",
       "      <td>S</td>\n",
       "      <td>23.65</td>\n",
       "      <td>The Brie Carre Pizza</td>\n",
       "      <td>Supreme</td>\n",
       "      <td>Brie Carre Cheese, Prosciutto, Caramelized Oni...</td>\n",
       "    </tr>\n",
       "    <tr>\n",
       "      <th>48618</th>\n",
       "      <td>21282</td>\n",
       "      <td>2015-12-31</td>\n",
       "      <td>12:09:59</td>\n",
       "      <td>48456</td>\n",
       "      <td>brie_carre_s</td>\n",
       "      <td>1</td>\n",
       "      <td>brie_carre</td>\n",
       "      <td>S</td>\n",
       "      <td>23.65</td>\n",
       "      <td>The Brie Carre Pizza</td>\n",
       "      <td>Supreme</td>\n",
       "      <td>Brie Carre Cheese, Prosciutto, Caramelized Oni...</td>\n",
       "    </tr>\n",
       "    <tr>\n",
       "      <th>48619</th>\n",
       "      <td>21308</td>\n",
       "      <td>2015-12-31</td>\n",
       "      <td>16:44:35</td>\n",
       "      <td>48527</td>\n",
       "      <td>brie_carre_s</td>\n",
       "      <td>1</td>\n",
       "      <td>brie_carre</td>\n",
       "      <td>S</td>\n",
       "      <td>23.65</td>\n",
       "      <td>The Brie Carre Pizza</td>\n",
       "      <td>Supreme</td>\n",
       "      <td>Brie Carre Cheese, Prosciutto, Caramelized Oni...</td>\n",
       "    </tr>\n",
       "  </tbody>\n",
       "</table>\n",
       "<p>48620 rows × 12 columns</p>\n",
       "</div>"
      ],
      "text/plain": [
       "       order_id        date      time  order_details_id      pizza_id  \\\n",
       "0             1  2015-01-01  11:38:36                 1    hawaiian_m   \n",
       "1            77  2015-01-02  12:22:46               179    hawaiian_m   \n",
       "2           146  2015-01-03  14:22:10               357    hawaiian_m   \n",
       "3           163  2015-01-03  16:54:54               389    hawaiian_m   \n",
       "4           247  2015-01-04  20:55:29               568    hawaiian_m   \n",
       "...         ...         ...       ...               ...           ...   \n",
       "48615     21167  2015-12-27  17:39:57             48176  brie_carre_s   \n",
       "48616     21198  2015-12-28  15:39:02             48244  brie_carre_s   \n",
       "48617     21225  2015-12-29  13:20:17             48311  brie_carre_s   \n",
       "48618     21282  2015-12-31  12:09:59             48456  brie_carre_s   \n",
       "48619     21308  2015-12-31  16:44:35             48527  brie_carre_s   \n",
       "\n",
       "       quantity pizza_type_id size  price                  name category  \\\n",
       "0             1      hawaiian    M  13.25    The Hawaiian Pizza  Classic   \n",
       "1             1      hawaiian    M  13.25    The Hawaiian Pizza  Classic   \n",
       "2             1      hawaiian    M  13.25    The Hawaiian Pizza  Classic   \n",
       "3             1      hawaiian    M  13.25    The Hawaiian Pizza  Classic   \n",
       "4             1      hawaiian    M  13.25    The Hawaiian Pizza  Classic   \n",
       "...         ...           ...  ...    ...                   ...      ...   \n",
       "48615         1    brie_carre    S  23.65  The Brie Carre Pizza  Supreme   \n",
       "48616         1    brie_carre    S  23.65  The Brie Carre Pizza  Supreme   \n",
       "48617         1    brie_carre    S  23.65  The Brie Carre Pizza  Supreme   \n",
       "48618         1    brie_carre    S  23.65  The Brie Carre Pizza  Supreme   \n",
       "48619         1    brie_carre    S  23.65  The Brie Carre Pizza  Supreme   \n",
       "\n",
       "                                             ingredients  \n",
       "0               Sliced Ham, Pineapple, Mozzarella Cheese  \n",
       "1               Sliced Ham, Pineapple, Mozzarella Cheese  \n",
       "2               Sliced Ham, Pineapple, Mozzarella Cheese  \n",
       "3               Sliced Ham, Pineapple, Mozzarella Cheese  \n",
       "4               Sliced Ham, Pineapple, Mozzarella Cheese  \n",
       "...                                                  ...  \n",
       "48615  Brie Carre Cheese, Prosciutto, Caramelized Oni...  \n",
       "48616  Brie Carre Cheese, Prosciutto, Caramelized Oni...  \n",
       "48617  Brie Carre Cheese, Prosciutto, Caramelized Oni...  \n",
       "48618  Brie Carre Cheese, Prosciutto, Caramelized Oni...  \n",
       "48619  Brie Carre Cheese, Prosciutto, Caramelized Oni...  \n",
       "\n",
       "[48620 rows x 12 columns]"
      ]
     },
     "execution_count": 12,
     "metadata": {},
     "output_type": "execute_result"
    }
   ],
   "source": [
    "pizza_df"
   ]
  },
  {
   "cell_type": "code",
   "execution_count": 13,
   "id": "45a7dc2c",
   "metadata": {},
   "outputs": [
    {
     "name": "stdout",
     "output_type": "stream",
     "text": [
      "<class 'pandas.core.frame.DataFrame'>\n",
      "RangeIndex: 48620 entries, 0 to 48619\n",
      "Data columns (total 12 columns):\n",
      " #   Column            Non-Null Count  Dtype  \n",
      "---  ------            --------------  -----  \n",
      " 0   order_id          48620 non-null  int64  \n",
      " 1   date              48620 non-null  object \n",
      " 2   time              48620 non-null  object \n",
      " 3   order_details_id  48620 non-null  int64  \n",
      " 4   pizza_id          48620 non-null  object \n",
      " 5   quantity          48620 non-null  int64  \n",
      " 6   pizza_type_id     48620 non-null  object \n",
      " 7   size              48620 non-null  object \n",
      " 8   price             48620 non-null  float64\n",
      " 9   name              48620 non-null  object \n",
      " 10  category          48620 non-null  object \n",
      " 11  ingredients       48620 non-null  object \n",
      "dtypes: float64(1), int64(3), object(8)\n",
      "memory usage: 4.5+ MB\n"
     ]
    }
   ],
   "source": [
    "pizza_df.info()"
   ]
  },
  {
   "cell_type": "code",
   "execution_count": 14,
   "id": "df4c77bc",
   "metadata": {},
   "outputs": [
    {
     "data": {
      "text/plain": [
       "order_id            0\n",
       "date                0\n",
       "time                0\n",
       "order_details_id    0\n",
       "pizza_id            0\n",
       "quantity            0\n",
       "pizza_type_id       0\n",
       "size                0\n",
       "price               0\n",
       "name                0\n",
       "category            0\n",
       "ingredients         0\n",
       "dtype: int64"
      ]
     },
     "execution_count": 14,
     "metadata": {},
     "output_type": "execute_result"
    }
   ],
   "source": [
    "pizza_df.isna().sum()"
   ]
  },
  {
   "cell_type": "code",
   "execution_count": 15,
   "id": "1fbedf8a",
   "metadata": {},
   "outputs": [],
   "source": [
    "pizza_df['date']=pd.to_datetime(pizza_df['date'])"
   ]
  },
  {
   "cell_type": "code",
   "execution_count": 16,
   "id": "f7e982a2",
   "metadata": {},
   "outputs": [],
   "source": [
    "pizza_df['day']=pizza_df['date'].dt.dayofweek+1"
   ]
  },
  {
   "cell_type": "code",
   "execution_count": 17,
   "id": "a08b9c19",
   "metadata": {},
   "outputs": [],
   "source": [
    "pizza_df['month']=pizza_df['date'].dt.month"
   ]
  },
  {
   "cell_type": "code",
   "execution_count": 18,
   "id": "94d866a0",
   "metadata": {},
   "outputs": [
    {
     "data": {
      "text/html": [
       "<div>\n",
       "<style scoped>\n",
       "    .dataframe tbody tr th:only-of-type {\n",
       "        vertical-align: middle;\n",
       "    }\n",
       "\n",
       "    .dataframe tbody tr th {\n",
       "        vertical-align: top;\n",
       "    }\n",
       "\n",
       "    .dataframe thead th {\n",
       "        text-align: right;\n",
       "    }\n",
       "</style>\n",
       "<table border=\"1\" class=\"dataframe\">\n",
       "  <thead>\n",
       "    <tr style=\"text-align: right;\">\n",
       "      <th></th>\n",
       "      <th>order_id</th>\n",
       "      <th>date</th>\n",
       "      <th>time</th>\n",
       "      <th>order_details_id</th>\n",
       "      <th>pizza_id</th>\n",
       "      <th>quantity</th>\n",
       "      <th>pizza_type_id</th>\n",
       "      <th>size</th>\n",
       "      <th>price</th>\n",
       "      <th>name</th>\n",
       "      <th>category</th>\n",
       "      <th>ingredients</th>\n",
       "      <th>day</th>\n",
       "      <th>month</th>\n",
       "    </tr>\n",
       "  </thead>\n",
       "  <tbody>\n",
       "    <tr>\n",
       "      <th>0</th>\n",
       "      <td>1</td>\n",
       "      <td>2015-01-01</td>\n",
       "      <td>11:38:36</td>\n",
       "      <td>1</td>\n",
       "      <td>hawaiian_m</td>\n",
       "      <td>1</td>\n",
       "      <td>hawaiian</td>\n",
       "      <td>M</td>\n",
       "      <td>13.25</td>\n",
       "      <td>The Hawaiian Pizza</td>\n",
       "      <td>Classic</td>\n",
       "      <td>Sliced Ham, Pineapple, Mozzarella Cheese</td>\n",
       "      <td>4</td>\n",
       "      <td>1</td>\n",
       "    </tr>\n",
       "    <tr>\n",
       "      <th>1</th>\n",
       "      <td>77</td>\n",
       "      <td>2015-01-02</td>\n",
       "      <td>12:22:46</td>\n",
       "      <td>179</td>\n",
       "      <td>hawaiian_m</td>\n",
       "      <td>1</td>\n",
       "      <td>hawaiian</td>\n",
       "      <td>M</td>\n",
       "      <td>13.25</td>\n",
       "      <td>The Hawaiian Pizza</td>\n",
       "      <td>Classic</td>\n",
       "      <td>Sliced Ham, Pineapple, Mozzarella Cheese</td>\n",
       "      <td>5</td>\n",
       "      <td>1</td>\n",
       "    </tr>\n",
       "    <tr>\n",
       "      <th>2</th>\n",
       "      <td>146</td>\n",
       "      <td>2015-01-03</td>\n",
       "      <td>14:22:10</td>\n",
       "      <td>357</td>\n",
       "      <td>hawaiian_m</td>\n",
       "      <td>1</td>\n",
       "      <td>hawaiian</td>\n",
       "      <td>M</td>\n",
       "      <td>13.25</td>\n",
       "      <td>The Hawaiian Pizza</td>\n",
       "      <td>Classic</td>\n",
       "      <td>Sliced Ham, Pineapple, Mozzarella Cheese</td>\n",
       "      <td>6</td>\n",
       "      <td>1</td>\n",
       "    </tr>\n",
       "    <tr>\n",
       "      <th>3</th>\n",
       "      <td>163</td>\n",
       "      <td>2015-01-03</td>\n",
       "      <td>16:54:54</td>\n",
       "      <td>389</td>\n",
       "      <td>hawaiian_m</td>\n",
       "      <td>1</td>\n",
       "      <td>hawaiian</td>\n",
       "      <td>M</td>\n",
       "      <td>13.25</td>\n",
       "      <td>The Hawaiian Pizza</td>\n",
       "      <td>Classic</td>\n",
       "      <td>Sliced Ham, Pineapple, Mozzarella Cheese</td>\n",
       "      <td>6</td>\n",
       "      <td>1</td>\n",
       "    </tr>\n",
       "    <tr>\n",
       "      <th>4</th>\n",
       "      <td>247</td>\n",
       "      <td>2015-01-04</td>\n",
       "      <td>20:55:29</td>\n",
       "      <td>568</td>\n",
       "      <td>hawaiian_m</td>\n",
       "      <td>1</td>\n",
       "      <td>hawaiian</td>\n",
       "      <td>M</td>\n",
       "      <td>13.25</td>\n",
       "      <td>The Hawaiian Pizza</td>\n",
       "      <td>Classic</td>\n",
       "      <td>Sliced Ham, Pineapple, Mozzarella Cheese</td>\n",
       "      <td>7</td>\n",
       "      <td>1</td>\n",
       "    </tr>\n",
       "  </tbody>\n",
       "</table>\n",
       "</div>"
      ],
      "text/plain": [
       "   order_id       date      time  order_details_id    pizza_id  quantity  \\\n",
       "0         1 2015-01-01  11:38:36                 1  hawaiian_m         1   \n",
       "1        77 2015-01-02  12:22:46               179  hawaiian_m         1   \n",
       "2       146 2015-01-03  14:22:10               357  hawaiian_m         1   \n",
       "3       163 2015-01-03  16:54:54               389  hawaiian_m         1   \n",
       "4       247 2015-01-04  20:55:29               568  hawaiian_m         1   \n",
       "\n",
       "  pizza_type_id size  price                name category  \\\n",
       "0      hawaiian    M  13.25  The Hawaiian Pizza  Classic   \n",
       "1      hawaiian    M  13.25  The Hawaiian Pizza  Classic   \n",
       "2      hawaiian    M  13.25  The Hawaiian Pizza  Classic   \n",
       "3      hawaiian    M  13.25  The Hawaiian Pizza  Classic   \n",
       "4      hawaiian    M  13.25  The Hawaiian Pizza  Classic   \n",
       "\n",
       "                                ingredients  day  month  \n",
       "0  Sliced Ham, Pineapple, Mozzarella Cheese    4      1  \n",
       "1  Sliced Ham, Pineapple, Mozzarella Cheese    5      1  \n",
       "2  Sliced Ham, Pineapple, Mozzarella Cheese    6      1  \n",
       "3  Sliced Ham, Pineapple, Mozzarella Cheese    6      1  \n",
       "4  Sliced Ham, Pineapple, Mozzarella Cheese    7      1  "
      ]
     },
     "execution_count": 18,
     "metadata": {},
     "output_type": "execute_result"
    }
   ],
   "source": [
    "pizza_df.head()"
   ]
  },
  {
   "cell_type": "code",
   "execution_count": 19,
   "id": "83ab09e4",
   "metadata": {},
   "outputs": [
    {
     "data": {
      "text/plain": [
       "array([4, 5, 6, 7, 2, 3, 1])"
      ]
     },
     "execution_count": 19,
     "metadata": {},
     "output_type": "execute_result"
    }
   ],
   "source": [
    "pizza_df.day.unique()"
   ]
  },
  {
   "cell_type": "code",
   "execution_count": 20,
   "id": "a391f249",
   "metadata": {},
   "outputs": [
    {
     "data": {
      "text/plain": [
       "array([ 1,  2,  3,  4,  5,  6,  7,  8,  9, 10, 11, 12])"
      ]
     },
     "execution_count": 20,
     "metadata": {},
     "output_type": "execute_result"
    }
   ],
   "source": [
    "pizza_df.month.unique()"
   ]
  },
  {
   "cell_type": "code",
   "execution_count": 21,
   "id": "376474ed",
   "metadata": {},
   "outputs": [
    {
     "name": "stderr",
     "output_type": "stream",
     "text": [
      "C:\\Users\\COMPU-TRADE\\AppData\\Local\\Temp\\ipykernel_18304\\836165790.py:1: UserWarning: Could not infer format, so each element will be parsed individually, falling back to `dateutil`. To ensure parsing is consistent and as-expected, please specify a format.\n",
      "  pizza_df['hour']=pd.to_datetime(pizza_df.time).dt.hour\n"
     ]
    }
   ],
   "source": [
    "pizza_df['hour']=pd.to_datetime(pizza_df.time).dt.hour"
   ]
  },
  {
   "cell_type": "code",
   "execution_count": 22,
   "id": "6450d467",
   "metadata": {},
   "outputs": [],
   "source": [
    "day={1:'Monday',2:'Tuesday',3:'Wednesday',4:'Thursday',5:'Friday',6:'Saturday',7:'Sunday'}"
   ]
  },
  {
   "cell_type": "code",
   "execution_count": 23,
   "id": "5de005a5",
   "metadata": {},
   "outputs": [],
   "source": [
    "pizza_df['day']=pizza_df.day.map(day)"
   ]
  },
  {
   "cell_type": "code",
   "execution_count": 24,
   "id": "b6f2bfbd",
   "metadata": {},
   "outputs": [],
   "source": [
    "month={1:'Jan',2:'Feb',3:'March',4:'Apr',5:'May',6:'Jun',7:'Jul',8:'Aug',9:'Sep',10:'Oct',11:'Nov',12:'Dec'}"
   ]
  },
  {
   "cell_type": "code",
   "execution_count": 25,
   "id": "606b3f2f",
   "metadata": {},
   "outputs": [],
   "source": [
    "pizza_df['month']=pizza_df.month.map(month)"
   ]
  },
  {
   "cell_type": "code",
   "execution_count": 26,
   "id": "a550aa61",
   "metadata": {},
   "outputs": [
    {
     "data": {
      "text/plain": [
       "order_id                                                  77\n",
       "date                                     2015-01-02 00:00:00\n",
       "time                                                12:22:46\n",
       "order_details_id                                         179\n",
       "pizza_id                                          hawaiian_m\n",
       "quantity                                                   1\n",
       "pizza_type_id                                       hawaiian\n",
       "size                                                       M\n",
       "price                                                  13.25\n",
       "name                                      The Hawaiian Pizza\n",
       "category                                             Classic\n",
       "ingredients         Sliced Ham, Pineapple, Mozzarella Cheese\n",
       "day                                                   Friday\n",
       "month                                                    Jan\n",
       "hour                                                      12\n",
       "Name: 1, dtype: object"
      ]
     },
     "execution_count": 26,
     "metadata": {},
     "output_type": "execute_result"
    }
   ],
   "source": [
    "pizza_df.iloc[1]"
   ]
  },
  {
   "cell_type": "code",
   "execution_count": 27,
   "id": "79f5a39e",
   "metadata": {},
   "outputs": [],
   "source": [
    "pizza_df['sales']=pizza_df['quantity']* pizza_df['price']"
   ]
  },
  {
   "cell_type": "code",
   "execution_count": 28,
   "id": "13c82608",
   "metadata": {},
   "outputs": [
    {
     "data": {
      "text/html": [
       "<div>\n",
       "<style scoped>\n",
       "    .dataframe tbody tr th:only-of-type {\n",
       "        vertical-align: middle;\n",
       "    }\n",
       "\n",
       "    .dataframe tbody tr th {\n",
       "        vertical-align: top;\n",
       "    }\n",
       "\n",
       "    .dataframe thead th {\n",
       "        text-align: right;\n",
       "    }\n",
       "</style>\n",
       "<table border=\"1\" class=\"dataframe\">\n",
       "  <thead>\n",
       "    <tr style=\"text-align: right;\">\n",
       "      <th></th>\n",
       "      <th>order_id</th>\n",
       "      <th>date</th>\n",
       "      <th>time</th>\n",
       "      <th>order_details_id</th>\n",
       "      <th>pizza_id</th>\n",
       "      <th>quantity</th>\n",
       "      <th>pizza_type_id</th>\n",
       "      <th>size</th>\n",
       "      <th>price</th>\n",
       "      <th>name</th>\n",
       "      <th>category</th>\n",
       "      <th>ingredients</th>\n",
       "      <th>day</th>\n",
       "      <th>month</th>\n",
       "      <th>hour</th>\n",
       "      <th>sales</th>\n",
       "    </tr>\n",
       "  </thead>\n",
       "  <tbody>\n",
       "    <tr>\n",
       "      <th>1723</th>\n",
       "      <td>6068</td>\n",
       "      <td>2015-04-12</td>\n",
       "      <td>17:55:24</td>\n",
       "      <td>13854</td>\n",
       "      <td>hawaiian_l</td>\n",
       "      <td>1</td>\n",
       "      <td>hawaiian</td>\n",
       "      <td>L</td>\n",
       "      <td>16.5</td>\n",
       "      <td>The Hawaiian Pizza</td>\n",
       "      <td>Classic</td>\n",
       "      <td>Sliced Ham, Pineapple, Mozzarella Cheese</td>\n",
       "      <td>Sunday</td>\n",
       "      <td>Apr</td>\n",
       "      <td>17</td>\n",
       "      <td>16.5</td>\n",
       "    </tr>\n",
       "    <tr>\n",
       "      <th>12575</th>\n",
       "      <td>19841</td>\n",
       "      <td>2015-12-03</td>\n",
       "      <td>20:07:25</td>\n",
       "      <td>45142</td>\n",
       "      <td>prsc_argla_s</td>\n",
       "      <td>1</td>\n",
       "      <td>prsc_argla</td>\n",
       "      <td>S</td>\n",
       "      <td>12.5</td>\n",
       "      <td>The Prosciutto and Arugula Pizza</td>\n",
       "      <td>Supreme</td>\n",
       "      <td>Prosciutto di San Daniele, Arugula, Mozzarella...</td>\n",
       "      <td>Thursday</td>\n",
       "      <td>Dec</td>\n",
       "      <td>20</td>\n",
       "      <td>12.5</td>\n",
       "    </tr>\n",
       "    <tr>\n",
       "      <th>1884</th>\n",
       "      <td>9867</td>\n",
       "      <td>2015-06-15</td>\n",
       "      <td>12:07:56</td>\n",
       "      <td>22462</td>\n",
       "      <td>hawaiian_l</td>\n",
       "      <td>1</td>\n",
       "      <td>hawaiian</td>\n",
       "      <td>L</td>\n",
       "      <td>16.5</td>\n",
       "      <td>The Hawaiian Pizza</td>\n",
       "      <td>Classic</td>\n",
       "      <td>Sliced Ham, Pineapple, Mozzarella Cheese</td>\n",
       "      <td>Monday</td>\n",
       "      <td>Jun</td>\n",
       "      <td>12</td>\n",
       "      <td>16.5</td>\n",
       "    </tr>\n",
       "    <tr>\n",
       "      <th>22134</th>\n",
       "      <td>17817</td>\n",
       "      <td>2015-10-31</td>\n",
       "      <td>14:02:38</td>\n",
       "      <td>40452</td>\n",
       "      <td>spicy_ital_m</td>\n",
       "      <td>1</td>\n",
       "      <td>spicy_ital</td>\n",
       "      <td>M</td>\n",
       "      <td>16.5</td>\n",
       "      <td>The Spicy Italian Pizza</td>\n",
       "      <td>Supreme</td>\n",
       "      <td>Capocollo, Tomatoes, Goat Cheese, Artichokes, ...</td>\n",
       "      <td>Saturday</td>\n",
       "      <td>Oct</td>\n",
       "      <td>14</td>\n",
       "      <td>16.5</td>\n",
       "    </tr>\n",
       "    <tr>\n",
       "      <th>32907</th>\n",
       "      <td>8641</td>\n",
       "      <td>2015-05-25</td>\n",
       "      <td>12:24:13</td>\n",
       "      <td>19642</td>\n",
       "      <td>big_meat_s</td>\n",
       "      <td>1</td>\n",
       "      <td>big_meat</td>\n",
       "      <td>S</td>\n",
       "      <td>12.0</td>\n",
       "      <td>The Big Meat Pizza</td>\n",
       "      <td>Classic</td>\n",
       "      <td>Bacon, Pepperoni, Italian Sausage, Chorizo Sau...</td>\n",
       "      <td>Monday</td>\n",
       "      <td>May</td>\n",
       "      <td>12</td>\n",
       "      <td>12.0</td>\n",
       "    </tr>\n",
       "  </tbody>\n",
       "</table>\n",
       "</div>"
      ],
      "text/plain": [
       "       order_id       date      time  order_details_id      pizza_id  \\\n",
       "1723       6068 2015-04-12  17:55:24             13854    hawaiian_l   \n",
       "12575     19841 2015-12-03  20:07:25             45142  prsc_argla_s   \n",
       "1884       9867 2015-06-15  12:07:56             22462    hawaiian_l   \n",
       "22134     17817 2015-10-31  14:02:38             40452  spicy_ital_m   \n",
       "32907      8641 2015-05-25  12:24:13             19642    big_meat_s   \n",
       "\n",
       "       quantity pizza_type_id size  price                              name  \\\n",
       "1723          1      hawaiian    L   16.5                The Hawaiian Pizza   \n",
       "12575         1    prsc_argla    S   12.5  The Prosciutto and Arugula Pizza   \n",
       "1884          1      hawaiian    L   16.5                The Hawaiian Pizza   \n",
       "22134         1    spicy_ital    M   16.5           The Spicy Italian Pizza   \n",
       "32907         1      big_meat    S   12.0                The Big Meat Pizza   \n",
       "\n",
       "      category                                        ingredients       day  \\\n",
       "1723   Classic           Sliced Ham, Pineapple, Mozzarella Cheese    Sunday   \n",
       "12575  Supreme  Prosciutto di San Daniele, Arugula, Mozzarella...  Thursday   \n",
       "1884   Classic           Sliced Ham, Pineapple, Mozzarella Cheese    Monday   \n",
       "22134  Supreme  Capocollo, Tomatoes, Goat Cheese, Artichokes, ...  Saturday   \n",
       "32907  Classic  Bacon, Pepperoni, Italian Sausage, Chorizo Sau...    Monday   \n",
       "\n",
       "      month  hour  sales  \n",
       "1723    Apr    17   16.5  \n",
       "12575   Dec    20   12.5  \n",
       "1884    Jun    12   16.5  \n",
       "22134   Oct    14   16.5  \n",
       "32907   May    12   12.0  "
      ]
     },
     "execution_count": 28,
     "metadata": {},
     "output_type": "execute_result"
    }
   ],
   "source": [
    "pizza_df.sample(5)"
   ]
  },
  {
   "cell_type": "markdown",
   "id": "f985198d",
   "metadata": {},
   "source": [
    "### Analysis\n",
    "* How many pizzas were sold in the year"
   ]
  },
  {
   "cell_type": "code",
   "execution_count": 29,
   "id": "8ed30742",
   "metadata": {},
   "outputs": [
    {
     "data": {
      "text/plain": [
       "0"
      ]
     },
     "execution_count": 29,
     "metadata": {},
     "output_type": "execute_result"
    }
   ],
   "source": [
    "pizza_df.duplicated().sum()"
   ]
  },
  {
   "cell_type": "code",
   "execution_count": 30,
   "id": "805c1245",
   "metadata": {},
   "outputs": [
    {
     "data": {
      "text/plain": [
       "49574"
      ]
     },
     "execution_count": 30,
     "metadata": {},
     "output_type": "execute_result"
    }
   ],
   "source": [
    "pizza_df.quantity.sum()"
   ]
  },
  {
   "cell_type": "code",
   "execution_count": 31,
   "id": "45f7558e",
   "metadata": {},
   "outputs": [
    {
     "data": {
      "text/plain": [
       "138.47486033519553"
      ]
     },
     "execution_count": 31,
     "metadata": {},
     "output_type": "execute_result"
    }
   ],
   "source": [
    "pizza_df.quantity.sum()/358"
   ]
  },
  {
   "cell_type": "code",
   "execution_count": 32,
   "id": "cf1e97eb",
   "metadata": {},
   "outputs": [
    {
     "data": {
      "text/plain": [
       "4131.166666666667"
      ]
     },
     "execution_count": 32,
     "metadata": {},
     "output_type": "execute_result"
    }
   ],
   "source": [
    "pizza_df.quantity.sum()/12"
   ]
  },
  {
   "cell_type": "markdown",
   "id": "e567cb17",
   "metadata": {},
   "source": [
    "## NB\n",
    "49574 pieces of pizza were sold in the year 2015"
   ]
  },
  {
   "cell_type": "markdown",
   "id": "9ec944d8",
   "metadata": {},
   "source": [
    "## How many days did the restaurant operated"
   ]
  },
  {
   "cell_type": "code",
   "execution_count": 33,
   "id": "93f29ce3",
   "metadata": {},
   "outputs": [
    {
     "data": {
      "text/plain": [
       "358"
      ]
     },
     "execution_count": 33,
     "metadata": {},
     "output_type": "execute_result"
    }
   ],
   "source": [
    "pizza_df.date.count() -pizza_df.date.duplicated().sum()"
   ]
  },
  {
   "cell_type": "code",
   "execution_count": 34,
   "id": "13180fc6",
   "metadata": {},
   "outputs": [
    {
     "data": {
      "text/plain": [
       "48262"
      ]
     },
     "execution_count": 34,
     "metadata": {},
     "output_type": "execute_result"
    }
   ],
   "source": [
    "pizza_df.date.duplicated().sum()"
   ]
  },
  {
   "cell_type": "code",
   "execution_count": 35,
   "id": "20d71607",
   "metadata": {},
   "outputs": [
    {
     "data": {
      "text/plain": [
       "0        False\n",
       "1        False\n",
       "2        False\n",
       "3         True\n",
       "4        False\n",
       "         ...  \n",
       "48615     True\n",
       "48616     True\n",
       "48617     True\n",
       "48618     True\n",
       "48619     True\n",
       "Name: date, Length: 48620, dtype: bool"
      ]
     },
     "execution_count": 35,
     "metadata": {},
     "output_type": "execute_result"
    }
   ],
   "source": [
    "pizza_df.date.duplicated()"
   ]
  },
  {
   "cell_type": "code",
   "execution_count": 36,
   "id": "8734d3f8",
   "metadata": {},
   "outputs": [
    {
     "data": {
      "text/plain": [
       "358"
      ]
     },
     "execution_count": 36,
     "metadata": {},
     "output_type": "execute_result"
    }
   ],
   "source": [
    "pizza_df[~pizza_df.date.duplicated()].count()[1]"
   ]
  },
  {
   "cell_type": "markdown",
   "id": "6ccd6b41",
   "metadata": {},
   "source": [
    "### Note\n",
    "The restaurant operated for 358 days in the year under review"
   ]
  },
  {
   "cell_type": "markdown",
   "id": "a73ce68c",
   "metadata": {},
   "source": [
    "## How many orders were placed in the year under review?"
   ]
  },
  {
   "cell_type": "code",
   "execution_count": 37,
   "id": "0370ea91",
   "metadata": {},
   "outputs": [
    {
     "data": {
      "text/plain": [
       "21350"
      ]
     },
     "execution_count": 37,
     "metadata": {},
     "output_type": "execute_result"
    }
   ],
   "source": [
    "pizza_df[~pizza_df['order_id'].duplicated()].count()[1]"
   ]
  },
  {
   "cell_type": "code",
   "execution_count": 38,
   "id": "871a828d",
   "metadata": {},
   "outputs": [
    {
     "data": {
      "text/plain": [
       "21350"
      ]
     },
     "execution_count": 38,
     "metadata": {},
     "output_type": "execute_result"
    }
   ],
   "source": [
    "pizza_df['order_id'].drop_duplicates().count()"
   ]
  },
  {
   "cell_type": "code",
   "execution_count": 39,
   "id": "abbef71d",
   "metadata": {},
   "outputs": [
    {
     "data": {
      "text/plain": [
       "1779.1666666666667"
      ]
     },
     "execution_count": 39,
     "metadata": {},
     "output_type": "execute_result"
    }
   ],
   "source": [
    "pizza_df['order_id'].drop_duplicates().count()/12"
   ]
  },
  {
   "cell_type": "code",
   "execution_count": 40,
   "id": "2c73af42",
   "metadata": {},
   "outputs": [
    {
     "data": {
      "text/plain": [
       "59.63687150837989"
      ]
     },
     "execution_count": 40,
     "metadata": {},
     "output_type": "execute_result"
    }
   ],
   "source": [
    "pizza_df['order_id'].drop_duplicates().count()/358"
   ]
  },
  {
   "cell_type": "markdown",
   "id": "f3783e81",
   "metadata": {},
   "source": [
    "## What was the total sales"
   ]
  },
  {
   "cell_type": "markdown",
   "id": "ae83e726",
   "metadata": {},
   "source": [
    "## Yearly"
   ]
  },
  {
   "cell_type": "code",
   "execution_count": 41,
   "id": "b06ebbcd",
   "metadata": {},
   "outputs": [
    {
     "data": {
      "text/plain": [
       "817860.05"
      ]
     },
     "execution_count": 41,
     "metadata": {},
     "output_type": "execute_result"
    }
   ],
   "source": [
    "pizza_df.sales.sum()"
   ]
  },
  {
   "cell_type": "markdown",
   "id": "9e9e9256",
   "metadata": {},
   "source": [
    "## Monthly"
   ]
  },
  {
   "cell_type": "code",
   "execution_count": 42,
   "id": "68bee053",
   "metadata": {},
   "outputs": [
    {
     "data": {
      "text/plain": [
       "68155.00416666667"
      ]
     },
     "execution_count": 42,
     "metadata": {},
     "output_type": "execute_result"
    }
   ],
   "source": [
    "pizza_df.sales.sum()/12"
   ]
  },
  {
   "cell_type": "markdown",
   "id": "22fa97f7",
   "metadata": {},
   "source": [
    "## Daily"
   ]
  },
  {
   "cell_type": "code",
   "execution_count": 43,
   "id": "5f96c5ac",
   "metadata": {},
   "outputs": [
    {
     "data": {
      "text/plain": [
       "2284.525279329609"
      ]
     },
     "execution_count": 43,
     "metadata": {},
     "output_type": "execute_result"
    }
   ],
   "source": [
    "pizza_df.sales.sum()/358"
   ]
  },
  {
   "cell_type": "markdown",
   "id": "ceedc1d0",
   "metadata": {},
   "source": [
    "## Busiest Days"
   ]
  },
  {
   "cell_type": "code",
   "execution_count": 44,
   "id": "aae93e5c",
   "metadata": {},
   "outputs": [
    {
     "data": {
      "text/plain": [
       "day\n",
       "Friday       8242\n",
       "Saturday     7493\n",
       "Thursday     7478\n",
       "Wednesday    6946\n",
       "Tuesday      6895\n",
       "Monday       6485\n",
       "Sunday       6035\n",
       "Name: quantity, dtype: int64"
      ]
     },
     "execution_count": 44,
     "metadata": {},
     "output_type": "execute_result"
    }
   ],
   "source": [
    "pizza_df.groupby('day')['quantity'].sum().sort_values(ascending=False)"
   ]
  },
  {
   "cell_type": "code",
   "execution_count": 45,
   "id": "1c3305d4",
   "metadata": {},
   "outputs": [],
   "source": [
    "day_df=pd.DataFrame(pizza_df.groupby('day')['quantity'].sum().sort_values(ascending=False).reset_index())\n",
    "\n",
    "day_df['qty_pct'] =round (day_df['quantity'] / day_df['quantity'].sum()*100,2)"
   ]
  },
  {
   "cell_type": "code",
   "execution_count": 46,
   "id": "96614df9",
   "metadata": {},
   "outputs": [
    {
     "data": {
      "text/html": [
       "<div>\n",
       "<style scoped>\n",
       "    .dataframe tbody tr th:only-of-type {\n",
       "        vertical-align: middle;\n",
       "    }\n",
       "\n",
       "    .dataframe tbody tr th {\n",
       "        vertical-align: top;\n",
       "    }\n",
       "\n",
       "    .dataframe thead th {\n",
       "        text-align: right;\n",
       "    }\n",
       "</style>\n",
       "<table border=\"1\" class=\"dataframe\">\n",
       "  <thead>\n",
       "    <tr style=\"text-align: right;\">\n",
       "      <th></th>\n",
       "      <th>day</th>\n",
       "      <th>quantity</th>\n",
       "      <th>qty_pct</th>\n",
       "    </tr>\n",
       "  </thead>\n",
       "  <tbody>\n",
       "    <tr>\n",
       "      <th>0</th>\n",
       "      <td>Friday</td>\n",
       "      <td>8242</td>\n",
       "      <td>16.63</td>\n",
       "    </tr>\n",
       "    <tr>\n",
       "      <th>1</th>\n",
       "      <td>Saturday</td>\n",
       "      <td>7493</td>\n",
       "      <td>15.11</td>\n",
       "    </tr>\n",
       "    <tr>\n",
       "      <th>2</th>\n",
       "      <td>Thursday</td>\n",
       "      <td>7478</td>\n",
       "      <td>15.08</td>\n",
       "    </tr>\n",
       "    <tr>\n",
       "      <th>3</th>\n",
       "      <td>Wednesday</td>\n",
       "      <td>6946</td>\n",
       "      <td>14.01</td>\n",
       "    </tr>\n",
       "    <tr>\n",
       "      <th>4</th>\n",
       "      <td>Tuesday</td>\n",
       "      <td>6895</td>\n",
       "      <td>13.91</td>\n",
       "    </tr>\n",
       "  </tbody>\n",
       "</table>\n",
       "</div>"
      ],
      "text/plain": [
       "         day  quantity  qty_pct\n",
       "0     Friday      8242    16.63\n",
       "1   Saturday      7493    15.11\n",
       "2   Thursday      7478    15.08\n",
       "3  Wednesday      6946    14.01\n",
       "4    Tuesday      6895    13.91"
      ]
     },
     "execution_count": 46,
     "metadata": {},
     "output_type": "execute_result"
    }
   ],
   "source": [
    "day_df.head()"
   ]
  },
  {
   "cell_type": "code",
   "execution_count": 47,
   "id": "f023f35a",
   "metadata": {},
   "outputs": [],
   "source": [
    "qty_pct =[16.63,15.11,15.08,14.01,13.08]\n",
    "day =['Friday','Saturday','Thursday','Wednesday','Tuesday']"
   ]
  },
  {
   "cell_type": "code",
   "execution_count": 48,
   "id": "d0cfaa51",
   "metadata": {},
   "outputs": [
    {
     "data": {
      "image/png": "[encoded data removed]",
      "text/plain": [
       "<Figure size 640x480 with 1 Axes>"
      ]
     },
     "metadata": {},
     "output_type": "display_data"
    }
   ],
   "source": [
    "plt.pie(qty_pct,labels =day,colors = ['#86A69D','#F2B263','#F2E8DF','#F2C6C2','#F28585'],autopct='%.0f%%',explode=[0,0.1,0,0,0],\n",
    "        shadow=True,textprops={'fontsize':12,'color':'black'})\n",
    "plt.legend()\n",
    "plt.title('Percentage of Sales By Day')\n",
    "plt.savefig('Percentage_of_Sales_By_Day');"
   ]
  },
  {
   "cell_type": "code",
   "execution_count": 49,
   "id": "8ce3867e",
   "metadata": {},
   "outputs": [
    {
     "data": {
      "text/plain": [
       "0    16.625651\n",
       "1    15.114778\n",
       "2    15.084520\n",
       "3    14.011377\n",
       "4    13.908500\n",
       "5    13.081454\n",
       "6    12.173720\n",
       "Name: quantity, dtype: float64"
      ]
     },
     "execution_count": 49,
     "metadata": {},
     "output_type": "execute_result"
    }
   ],
   "source": [
    "day_df['quantity'] / day_df['quantity'].sum()*100"
   ]
  },
  {
   "cell_type": "code",
   "execution_count": 50,
   "id": "e098073d",
   "metadata": {},
   "outputs": [
    {
     "data": {
      "image/png": "[encoded data removed]",
      "text/plain": [
       "<Figure size 700x500 with 1 Axes>"
      ]
     },
     "metadata": {},
     "output_type": "display_data"
    }
   ],
   "source": [
    "plt.figure(figsize=(7,5))\n",
    "\n",
    "sns.barplot(data=day_df,x='day',y='quantity',palette='Reds')\n",
    "plt.title('Busiest Days',fontsize=15);\n",
    "plt.savefig('Busiest_Days.png')"
   ]
  },
  {
   "cell_type": "markdown",
   "id": "8defe41e",
   "metadata": {},
   "source": [
    "## Which Day was more sales made?"
   ]
  },
  {
   "cell_type": "code",
   "execution_count": 51,
   "id": "6d503726",
   "metadata": {},
   "outputs": [],
   "source": [
    "sale_df = pd.DataFrame(pizza_df.groupby('day')['sales'].sum().sort_values(ascending=False).reset_index())\n",
    "\n",
    "sale_df['sale_pct'] =round (sale_df['sales'] / sale_df['sales'].sum()*100,2)"
   ]
  },
  {
   "cell_type": "code",
   "execution_count": 52,
   "id": "2709378b",
   "metadata": {},
   "outputs": [
    {
     "data": {
      "text/html": [
       "<div>\n",
       "<style scoped>\n",
       "    .dataframe tbody tr th:only-of-type {\n",
       "        vertical-align: middle;\n",
       "    }\n",
       "\n",
       "    .dataframe tbody tr th {\n",
       "        vertical-align: top;\n",
       "    }\n",
       "\n",
       "    .dataframe thead th {\n",
       "        text-align: right;\n",
       "    }\n",
       "</style>\n",
       "<table border=\"1\" class=\"dataframe\">\n",
       "  <thead>\n",
       "    <tr style=\"text-align: right;\">\n",
       "      <th></th>\n",
       "      <th>day</th>\n",
       "      <th>sales</th>\n",
       "      <th>sale_pct</th>\n",
       "    </tr>\n",
       "  </thead>\n",
       "  <tbody>\n",
       "    <tr>\n",
       "      <th>0</th>\n",
       "      <td>Friday</td>\n",
       "      <td>136073.90</td>\n",
       "      <td>16.64</td>\n",
       "    </tr>\n",
       "    <tr>\n",
       "      <th>1</th>\n",
       "      <td>Thursday</td>\n",
       "      <td>123528.50</td>\n",
       "      <td>15.10</td>\n",
       "    </tr>\n",
       "    <tr>\n",
       "      <th>2</th>\n",
       "      <td>Saturday</td>\n",
       "      <td>123182.40</td>\n",
       "      <td>15.06</td>\n",
       "    </tr>\n",
       "    <tr>\n",
       "      <th>3</th>\n",
       "      <td>Wednesday</td>\n",
       "      <td>114408.40</td>\n",
       "      <td>13.99</td>\n",
       "    </tr>\n",
       "    <tr>\n",
       "      <th>4</th>\n",
       "      <td>Tuesday</td>\n",
       "      <td>114133.80</td>\n",
       "      <td>13.96</td>\n",
       "    </tr>\n",
       "    <tr>\n",
       "      <th>5</th>\n",
       "      <td>Monday</td>\n",
       "      <td>107329.55</td>\n",
       "      <td>13.12</td>\n",
       "    </tr>\n",
       "    <tr>\n",
       "      <th>6</th>\n",
       "      <td>Sunday</td>\n",
       "      <td>99203.50</td>\n",
       "      <td>12.13</td>\n",
       "    </tr>\n",
       "  </tbody>\n",
       "</table>\n",
       "</div>"
      ],
      "text/plain": [
       "         day      sales  sale_pct\n",
       "0     Friday  136073.90     16.64\n",
       "1   Thursday  123528.50     15.10\n",
       "2   Saturday  123182.40     15.06\n",
       "3  Wednesday  114408.40     13.99\n",
       "4    Tuesday  114133.80     13.96\n",
       "5     Monday  107329.55     13.12\n",
       "6     Sunday   99203.50     12.13"
      ]
     },
     "execution_count": 52,
     "metadata": {},
     "output_type": "execute_result"
    }
   ],
   "source": [
    "sale_df"
   ]
  },
  {
   "cell_type": "code",
   "execution_count": 53,
   "id": "40bebb32",
   "metadata": {},
   "outputs": [
    {
     "data": {
      "image/png": "[encoded data removed]",
      "text/plain": [
       "<Figure size 700x500 with 1 Axes>"
      ]
     },
     "metadata": {},
     "output_type": "display_data"
    }
   ],
   "source": [
    "plt.figure(figsize=(7,5))\n",
    "\n",
    "sns.barplot(data=sale_df,x='day',y='sales',palette='Greens')\n",
    "plt.title('Day with Highest Sales',fontsize=15);\n",
    "plt.savefig('Day_with_Highest_Sales.png')"
   ]
  },
  {
   "cell_type": "markdown",
   "id": "ac03959b",
   "metadata": {},
   "source": [
    "### How many varieties of pizza are on the menu?"
   ]
  },
  {
   "cell_type": "code",
   "execution_count": 54,
   "id": "60ace720",
   "metadata": {},
   "outputs": [
    {
     "data": {
      "text/plain": [
       "32"
      ]
     },
     "execution_count": 54,
     "metadata": {},
     "output_type": "execute_result"
    }
   ],
   "source": [
    "pizza_df.name.nunique()"
   ]
  },
  {
   "cell_type": "code",
   "execution_count": null,
   "id": "e5c1e9cd",
   "metadata": {},
   "outputs": [],
   "source": []
  },
  {
   "cell_type": "markdown",
   "id": "005d4832",
   "metadata": {},
   "source": [
    "## Top 3 selling pizzas"
   ]
  },
  {
   "cell_type": "code",
   "execution_count": 55,
   "id": "5416b67d",
   "metadata": {},
   "outputs": [],
   "source": [
    "pizza_rank =pd.DataFrame(pizza_df.groupby('name')['quantity'].sum().sort_values(ascending=False)).reset_index()\n",
    "pizza_rank['percentage'] =round(pizza_rank['quantity']/pizza_rank['quantity'].sum()*100,1)"
   ]
  },
  {
   "cell_type": "code",
   "execution_count": 56,
   "id": "c4ac4d24",
   "metadata": {},
   "outputs": [
    {
     "data": {
      "text/html": [
       "<div>\n",
       "<style scoped>\n",
       "    .dataframe tbody tr th:only-of-type {\n",
       "        vertical-align: middle;\n",
       "    }\n",
       "\n",
       "    .dataframe tbody tr th {\n",
       "        vertical-align: top;\n",
       "    }\n",
       "\n",
       "    .dataframe thead th {\n",
       "        text-align: right;\n",
       "    }\n",
       "</style>\n",
       "<table border=\"1\" class=\"dataframe\">\n",
       "  <thead>\n",
       "    <tr style=\"text-align: right;\">\n",
       "      <th></th>\n",
       "      <th>name</th>\n",
       "      <th>quantity</th>\n",
       "      <th>percentage</th>\n",
       "    </tr>\n",
       "  </thead>\n",
       "  <tbody>\n",
       "    <tr>\n",
       "      <th>0</th>\n",
       "      <td>The Classic Deluxe Pizza</td>\n",
       "      <td>2453</td>\n",
       "      <td>4.9</td>\n",
       "    </tr>\n",
       "    <tr>\n",
       "      <th>1</th>\n",
       "      <td>The Barbecue Chicken Pizza</td>\n",
       "      <td>2432</td>\n",
       "      <td>4.9</td>\n",
       "    </tr>\n",
       "    <tr>\n",
       "      <th>2</th>\n",
       "      <td>The Hawaiian Pizza</td>\n",
       "      <td>2422</td>\n",
       "      <td>4.9</td>\n",
       "    </tr>\n",
       "  </tbody>\n",
       "</table>\n",
       "</div>"
      ],
      "text/plain": [
       "                         name  quantity  percentage\n",
       "0    The Classic Deluxe Pizza      2453         4.9\n",
       "1  The Barbecue Chicken Pizza      2432         4.9\n",
       "2          The Hawaiian Pizza      2422         4.9"
      ]
     },
     "execution_count": 56,
     "metadata": {},
     "output_type": "execute_result"
    }
   ],
   "source": [
    "pizza_rank.head(3)"
   ]
  },
  {
   "cell_type": "markdown",
   "id": "e7bb23cc",
   "metadata": {},
   "source": [
    "### Btm 3 selling pizzas"
   ]
  },
  {
   "cell_type": "code",
   "execution_count": 57,
   "id": "e856258a",
   "metadata": {},
   "outputs": [
    {
     "data": {
      "text/html": [
       "<div>\n",
       "<style scoped>\n",
       "    .dataframe tbody tr th:only-of-type {\n",
       "        vertical-align: middle;\n",
       "    }\n",
       "\n",
       "    .dataframe tbody tr th {\n",
       "        vertical-align: top;\n",
       "    }\n",
       "\n",
       "    .dataframe thead th {\n",
       "        text-align: right;\n",
       "    }\n",
       "</style>\n",
       "<table border=\"1\" class=\"dataframe\">\n",
       "  <thead>\n",
       "    <tr style=\"text-align: right;\">\n",
       "      <th></th>\n",
       "      <th>name</th>\n",
       "      <th>quantity</th>\n",
       "      <th>percentage</th>\n",
       "    </tr>\n",
       "  </thead>\n",
       "  <tbody>\n",
       "    <tr>\n",
       "      <th>29</th>\n",
       "      <td>The Calabrese Pizza</td>\n",
       "      <td>937</td>\n",
       "      <td>1.9</td>\n",
       "    </tr>\n",
       "    <tr>\n",
       "      <th>30</th>\n",
       "      <td>The Mediterranean Pizza</td>\n",
       "      <td>934</td>\n",
       "      <td>1.9</td>\n",
       "    </tr>\n",
       "    <tr>\n",
       "      <th>31</th>\n",
       "      <td>The Brie Carre Pizza</td>\n",
       "      <td>490</td>\n",
       "      <td>1.0</td>\n",
       "    </tr>\n",
       "  </tbody>\n",
       "</table>\n",
       "</div>"
      ],
      "text/plain": [
       "                       name  quantity  percentage\n",
       "29      The Calabrese Pizza       937         1.9\n",
       "30  The Mediterranean Pizza       934         1.9\n",
       "31     The Brie Carre Pizza       490         1.0"
      ]
     },
     "execution_count": 57,
     "metadata": {},
     "output_type": "execute_result"
    }
   ],
   "source": [
    "pizza_rank.tail(3)"
   ]
  },
  {
   "cell_type": "code",
   "execution_count": 58,
   "id": "c9ac5345",
   "metadata": {},
   "outputs": [
    {
     "data": {
      "image/png": "[encoded data removed]",
      "text/plain": [
       "<Figure size 700x500 with 1 Axes>"
      ]
     },
     "metadata": {},
     "output_type": "display_data"
    }
   ],
   "source": [
    "plt.figure(figsize=(7,5))\n",
    "sns.barplot(data=pizza_rank,y='name',x='quantity',orient='h')\n",
    "plt.title('Best And Worst Selling pizza',fontsize=14);\n",
    "plt.savefig('Best_And_Worst_Selling_pizza.png')"
   ]
  },
  {
   "cell_type": "code",
   "execution_count": 59,
   "id": "bd217d76",
   "metadata": {},
   "outputs": [],
   "source": [
    "pizza_rank =pd.DataFrame(pizza_df.groupby('name')['quantity'].sum().sort_values(ascending=False)).reset_index()\n",
    "pizza_rank['percentage'] =round(pizza_rank['quantity']/pizza_rank['quantity'].sum()*100,1)  "
   ]
  },
  {
   "cell_type": "markdown",
   "id": "d2c6b983",
   "metadata": {},
   "source": [
    "## Pizza with most sales"
   ]
  },
  {
   "cell_type": "code",
   "execution_count": 60,
   "id": "5c823f40",
   "metadata": {},
   "outputs": [],
   "source": [
    "profit=pd.DataFrame(pizza_df.groupby('name')['sales'].sum().sort_values(ascending=False)).reset_index()\n",
    "profit['percentage'] =round(profit['sales']/profit['sales'].sum()*100,1)"
   ]
  },
  {
   "cell_type": "code",
   "execution_count": 61,
   "id": "a60890af",
   "metadata": {},
   "outputs": [
    {
     "data": {
      "text/html": [
       "<div>\n",
       "<style scoped>\n",
       "    .dataframe tbody tr th:only-of-type {\n",
       "        vertical-align: middle;\n",
       "    }\n",
       "\n",
       "    .dataframe tbody tr th {\n",
       "        vertical-align: top;\n",
       "    }\n",
       "\n",
       "    .dataframe thead th {\n",
       "        text-align: right;\n",
       "    }\n",
       "</style>\n",
       "<table border=\"1\" class=\"dataframe\">\n",
       "  <thead>\n",
       "    <tr style=\"text-align: right;\">\n",
       "      <th></th>\n",
       "      <th>name</th>\n",
       "      <th>sales</th>\n",
       "      <th>percentage</th>\n",
       "    </tr>\n",
       "  </thead>\n",
       "  <tbody>\n",
       "    <tr>\n",
       "      <th>0</th>\n",
       "      <td>The Thai Chicken Pizza</td>\n",
       "      <td>43434.25</td>\n",
       "      <td>5.3</td>\n",
       "    </tr>\n",
       "    <tr>\n",
       "      <th>1</th>\n",
       "      <td>The Barbecue Chicken Pizza</td>\n",
       "      <td>42768.00</td>\n",
       "      <td>5.2</td>\n",
       "    </tr>\n",
       "    <tr>\n",
       "      <th>2</th>\n",
       "      <td>The California Chicken Pizza</td>\n",
       "      <td>41409.50</td>\n",
       "      <td>5.1</td>\n",
       "    </tr>\n",
       "    <tr>\n",
       "      <th>3</th>\n",
       "      <td>The Classic Deluxe Pizza</td>\n",
       "      <td>38180.50</td>\n",
       "      <td>4.7</td>\n",
       "    </tr>\n",
       "    <tr>\n",
       "      <th>4</th>\n",
       "      <td>The Spicy Italian Pizza</td>\n",
       "      <td>34831.25</td>\n",
       "      <td>4.3</td>\n",
       "    </tr>\n",
       "  </tbody>\n",
       "</table>\n",
       "</div>"
      ],
      "text/plain": [
       "                           name     sales  percentage\n",
       "0        The Thai Chicken Pizza  43434.25         5.3\n",
       "1    The Barbecue Chicken Pizza  42768.00         5.2\n",
       "2  The California Chicken Pizza  41409.50         5.1\n",
       "3      The Classic Deluxe Pizza  38180.50         4.7\n",
       "4       The Spicy Italian Pizza  34831.25         4.3"
      ]
     },
     "execution_count": 61,
     "metadata": {},
     "output_type": "execute_result"
    }
   ],
   "source": [
    "profit.head()"
   ]
  },
  {
   "cell_type": "code",
   "execution_count": 62,
   "id": "8bed9add",
   "metadata": {},
   "outputs": [
    {
     "data": {
      "text/html": [
       "<div>\n",
       "<style scoped>\n",
       "    .dataframe tbody tr th:only-of-type {\n",
       "        vertical-align: middle;\n",
       "    }\n",
       "\n",
       "    .dataframe tbody tr th {\n",
       "        vertical-align: top;\n",
       "    }\n",
       "\n",
       "    .dataframe thead th {\n",
       "        text-align: right;\n",
       "    }\n",
       "</style>\n",
       "<table border=\"1\" class=\"dataframe\">\n",
       "  <thead>\n",
       "    <tr style=\"text-align: right;\">\n",
       "      <th></th>\n",
       "      <th>name</th>\n",
       "      <th>sales</th>\n",
       "      <th>percentage</th>\n",
       "    </tr>\n",
       "  </thead>\n",
       "  <tbody>\n",
       "    <tr>\n",
       "      <th>27</th>\n",
       "      <td>The Spinach Pesto Pizza</td>\n",
       "      <td>15596.00</td>\n",
       "      <td>1.9</td>\n",
       "    </tr>\n",
       "    <tr>\n",
       "      <th>28</th>\n",
       "      <td>The Mediterranean Pizza</td>\n",
       "      <td>15360.50</td>\n",
       "      <td>1.9</td>\n",
       "    </tr>\n",
       "    <tr>\n",
       "      <th>29</th>\n",
       "      <td>The Spinach Supreme Pizza</td>\n",
       "      <td>15277.75</td>\n",
       "      <td>1.9</td>\n",
       "    </tr>\n",
       "    <tr>\n",
       "      <th>30</th>\n",
       "      <td>The Green Garden Pizza</td>\n",
       "      <td>13955.75</td>\n",
       "      <td>1.7</td>\n",
       "    </tr>\n",
       "    <tr>\n",
       "      <th>31</th>\n",
       "      <td>The Brie Carre Pizza</td>\n",
       "      <td>11588.50</td>\n",
       "      <td>1.4</td>\n",
       "    </tr>\n",
       "  </tbody>\n",
       "</table>\n",
       "</div>"
      ],
      "text/plain": [
       "                         name     sales  percentage\n",
       "27    The Spinach Pesto Pizza  15596.00         1.9\n",
       "28    The Mediterranean Pizza  15360.50         1.9\n",
       "29  The Spinach Supreme Pizza  15277.75         1.9\n",
       "30     The Green Garden Pizza  13955.75         1.7\n",
       "31       The Brie Carre Pizza  11588.50         1.4"
      ]
     },
     "execution_count": 62,
     "metadata": {},
     "output_type": "execute_result"
    }
   ],
   "source": [
    "profit.tail()"
   ]
  },
  {
   "cell_type": "code",
   "execution_count": 63,
   "id": "3d664933",
   "metadata": {},
   "outputs": [
    {
     "data": {
      "image/png": "[encoded data removed]",
      "text/plain": [
       "<Figure size 700x500 with 1 Axes>"
      ]
     },
     "metadata": {},
     "output_type": "display_data"
    }
   ],
   "source": [
    "plt.figure(figsize=(7,5))\n",
    "sns.barplot(data=profit,y='name',x='sales',orient='h')\n",
    "plt.title('Most Profitable Pizza',fontsize=14);\n",
    "plt.savefig('Most_Profitable_Pizza.png')"
   ]
  },
  {
   "cell_type": "code",
   "execution_count": 64,
   "id": "21b62575",
   "metadata": {},
   "outputs": [
    {
     "data": {
      "text/html": [
       "<div>\n",
       "<style scoped>\n",
       "    .dataframe tbody tr th:only-of-type {\n",
       "        vertical-align: middle;\n",
       "    }\n",
       "\n",
       "    .dataframe tbody tr th {\n",
       "        vertical-align: top;\n",
       "    }\n",
       "\n",
       "    .dataframe thead th {\n",
       "        text-align: right;\n",
       "    }\n",
       "</style>\n",
       "<table border=\"1\" class=\"dataframe\">\n",
       "  <thead>\n",
       "    <tr style=\"text-align: right;\">\n",
       "      <th></th>\n",
       "      <th>name</th>\n",
       "      <th>quantity</th>\n",
       "      <th>sales</th>\n",
       "    </tr>\n",
       "  </thead>\n",
       "  <tbody>\n",
       "    <tr>\n",
       "      <th>30</th>\n",
       "      <td>The Thai Chicken Pizza</td>\n",
       "      <td>2371</td>\n",
       "      <td>43434.25</td>\n",
       "    </tr>\n",
       "    <tr>\n",
       "      <th>0</th>\n",
       "      <td>The Barbecue Chicken Pizza</td>\n",
       "      <td>2432</td>\n",
       "      <td>42768.00</td>\n",
       "    </tr>\n",
       "    <tr>\n",
       "      <th>4</th>\n",
       "      <td>The California Chicken Pizza</td>\n",
       "      <td>2370</td>\n",
       "      <td>41409.50</td>\n",
       "    </tr>\n",
       "    <tr>\n",
       "      <th>7</th>\n",
       "      <td>The Classic Deluxe Pizza</td>\n",
       "      <td>2453</td>\n",
       "      <td>38180.50</td>\n",
       "    </tr>\n",
       "    <tr>\n",
       "      <th>26</th>\n",
       "      <td>The Spicy Italian Pizza</td>\n",
       "      <td>1924</td>\n",
       "      <td>34831.25</td>\n",
       "    </tr>\n",
       "    <tr>\n",
       "      <th>25</th>\n",
       "      <td>The Southwest Chicken Pizza</td>\n",
       "      <td>1917</td>\n",
       "      <td>34705.75</td>\n",
       "    </tr>\n",
       "    <tr>\n",
       "      <th>14</th>\n",
       "      <td>The Italian Supreme Pizza</td>\n",
       "      <td>1884</td>\n",
       "      <td>33476.75</td>\n",
       "    </tr>\n",
       "    <tr>\n",
       "      <th>12</th>\n",
       "      <td>The Hawaiian Pizza</td>\n",
       "      <td>2422</td>\n",
       "      <td>32273.25</td>\n",
       "    </tr>\n",
       "    <tr>\n",
       "      <th>9</th>\n",
       "      <td>The Four Cheese Pizza</td>\n",
       "      <td>1902</td>\n",
       "      <td>32265.70</td>\n",
       "    </tr>\n",
       "    <tr>\n",
       "      <th>23</th>\n",
       "      <td>The Sicilian Pizza</td>\n",
       "      <td>1938</td>\n",
       "      <td>30940.50</td>\n",
       "    </tr>\n",
       "    <tr>\n",
       "      <th>20</th>\n",
       "      <td>The Pepperoni Pizza</td>\n",
       "      <td>2418</td>\n",
       "      <td>30161.75</td>\n",
       "    </tr>\n",
       "    <tr>\n",
       "      <th>10</th>\n",
       "      <td>The Greek Pizza</td>\n",
       "      <td>1420</td>\n",
       "      <td>28454.10</td>\n",
       "    </tr>\n",
       "    <tr>\n",
       "      <th>17</th>\n",
       "      <td>The Mexicana Pizza</td>\n",
       "      <td>1484</td>\n",
       "      <td>26780.75</td>\n",
       "    </tr>\n",
       "    <tr>\n",
       "      <th>8</th>\n",
       "      <td>The Five Cheese Pizza</td>\n",
       "      <td>1409</td>\n",
       "      <td>26066.50</td>\n",
       "    </tr>\n",
       "    <tr>\n",
       "      <th>19</th>\n",
       "      <td>The Pepper Salami Pizza</td>\n",
       "      <td>1446</td>\n",
       "      <td>25529.00</td>\n",
       "    </tr>\n",
       "    <tr>\n",
       "      <th>13</th>\n",
       "      <td>The Italian Capocollo Pizza</td>\n",
       "      <td>1438</td>\n",
       "      <td>25094.00</td>\n",
       "    </tr>\n",
       "    <tr>\n",
       "      <th>31</th>\n",
       "      <td>The Vegetables + Vegetables Pizza</td>\n",
       "      <td>1526</td>\n",
       "      <td>24374.75</td>\n",
       "    </tr>\n",
       "    <tr>\n",
       "      <th>22</th>\n",
       "      <td>The Prosciutto and Arugula Pizza</td>\n",
       "      <td>1457</td>\n",
       "      <td>24193.25</td>\n",
       "    </tr>\n",
       "    <tr>\n",
       "      <th>18</th>\n",
       "      <td>The Napolitana Pizza</td>\n",
       "      <td>1464</td>\n",
       "      <td>24087.00</td>\n",
       "    </tr>\n",
       "    <tr>\n",
       "      <th>29</th>\n",
       "      <td>The Spinach and Feta Pizza</td>\n",
       "      <td>1446</td>\n",
       "      <td>23271.25</td>\n",
       "    </tr>\n",
       "    <tr>\n",
       "      <th>1</th>\n",
       "      <td>The Big Meat Pizza</td>\n",
       "      <td>1914</td>\n",
       "      <td>22968.00</td>\n",
       "    </tr>\n",
       "    <tr>\n",
       "      <th>21</th>\n",
       "      <td>The Pepperoni, Mushroom, and Peppers Pizza</td>\n",
       "      <td>1359</td>\n",
       "      <td>18834.50</td>\n",
       "    </tr>\n",
       "    <tr>\n",
       "      <th>5</th>\n",
       "      <td>The Chicken Alfredo Pizza</td>\n",
       "      <td>987</td>\n",
       "      <td>16900.25</td>\n",
       "    </tr>\n",
       "    <tr>\n",
       "      <th>6</th>\n",
       "      <td>The Chicken Pesto Pizza</td>\n",
       "      <td>973</td>\n",
       "      <td>16701.75</td>\n",
       "    </tr>\n",
       "    <tr>\n",
       "      <th>24</th>\n",
       "      <td>The Soppressata Pizza</td>\n",
       "      <td>961</td>\n",
       "      <td>16425.75</td>\n",
       "    </tr>\n",
       "    <tr>\n",
       "      <th>15</th>\n",
       "      <td>The Italian Vegetables Pizza</td>\n",
       "      <td>981</td>\n",
       "      <td>16019.25</td>\n",
       "    </tr>\n",
       "    <tr>\n",
       "      <th>3</th>\n",
       "      <td>The Calabrese Pizza</td>\n",
       "      <td>937</td>\n",
       "      <td>15934.25</td>\n",
       "    </tr>\n",
       "    <tr>\n",
       "      <th>27</th>\n",
       "      <td>The Spinach Pesto Pizza</td>\n",
       "      <td>970</td>\n",
       "      <td>15596.00</td>\n",
       "    </tr>\n",
       "    <tr>\n",
       "      <th>16</th>\n",
       "      <td>The Mediterranean Pizza</td>\n",
       "      <td>934</td>\n",
       "      <td>15360.50</td>\n",
       "    </tr>\n",
       "    <tr>\n",
       "      <th>28</th>\n",
       "      <td>The Spinach Supreme Pizza</td>\n",
       "      <td>950</td>\n",
       "      <td>15277.75</td>\n",
       "    </tr>\n",
       "    <tr>\n",
       "      <th>11</th>\n",
       "      <td>The Green Garden Pizza</td>\n",
       "      <td>997</td>\n",
       "      <td>13955.75</td>\n",
       "    </tr>\n",
       "    <tr>\n",
       "      <th>2</th>\n",
       "      <td>The Brie Carre Pizza</td>\n",
       "      <td>490</td>\n",
       "      <td>11588.50</td>\n",
       "    </tr>\n",
       "  </tbody>\n",
       "</table>\n",
       "</div>"
      ],
      "text/plain": [
       "                                          name  quantity     sales\n",
       "30                      The Thai Chicken Pizza      2371  43434.25\n",
       "0                   The Barbecue Chicken Pizza      2432  42768.00\n",
       "4                 The California Chicken Pizza      2370  41409.50\n",
       "7                     The Classic Deluxe Pizza      2453  38180.50\n",
       "26                     The Spicy Italian Pizza      1924  34831.25\n",
       "25                 The Southwest Chicken Pizza      1917  34705.75\n",
       "14                   The Italian Supreme Pizza      1884  33476.75\n",
       "12                          The Hawaiian Pizza      2422  32273.25\n",
       "9                        The Four Cheese Pizza      1902  32265.70\n",
       "23                          The Sicilian Pizza      1938  30940.50\n",
       "20                         The Pepperoni Pizza      2418  30161.75\n",
       "10                             The Greek Pizza      1420  28454.10\n",
       "17                          The Mexicana Pizza      1484  26780.75\n",
       "8                        The Five Cheese Pizza      1409  26066.50\n",
       "19                     The Pepper Salami Pizza      1446  25529.00\n",
       "13                 The Italian Capocollo Pizza      1438  25094.00\n",
       "31           The Vegetables + Vegetables Pizza      1526  24374.75\n",
       "22            The Prosciutto and Arugula Pizza      1457  24193.25\n",
       "18                        The Napolitana Pizza      1464  24087.00\n",
       "29                  The Spinach and Feta Pizza      1446  23271.25\n",
       "1                           The Big Meat Pizza      1914  22968.00\n",
       "21  The Pepperoni, Mushroom, and Peppers Pizza      1359  18834.50\n",
       "5                    The Chicken Alfredo Pizza       987  16900.25\n",
       "6                      The Chicken Pesto Pizza       973  16701.75\n",
       "24                       The Soppressata Pizza       961  16425.75\n",
       "15                The Italian Vegetables Pizza       981  16019.25\n",
       "3                          The Calabrese Pizza       937  15934.25\n",
       "27                     The Spinach Pesto Pizza       970  15596.00\n",
       "16                     The Mediterranean Pizza       934  15360.50\n",
       "28                   The Spinach Supreme Pizza       950  15277.75\n",
       "11                      The Green Garden Pizza       997  13955.75\n",
       "2                         The Brie Carre Pizza       490  11588.50"
      ]
     },
     "execution_count": 64,
     "metadata": {},
     "output_type": "execute_result"
    }
   ],
   "source": [
    "pizza_df.groupby('name')[['quantity','sales']].sum().reset_index().sort_values(by='sales',ascending=False)"
   ]
  },
  {
   "cell_type": "code",
   "execution_count": 65,
   "id": "4c4544bd",
   "metadata": {},
   "outputs": [],
   "source": [
    "size_df=pizza_df.groupby('size')[['quantity','sales']].sum().reset_index()"
   ]
  },
  {
   "cell_type": "code",
   "execution_count": 66,
   "id": "bc9954cd",
   "metadata": {},
   "outputs": [
    {
     "data": {
      "image/png": "[encoded data removed]",
      "text/plain": [
       "<Figure size 640x480 with 1 Axes>"
      ]
     },
     "metadata": {},
     "output_type": "display_data"
    }
   ],
   "source": [
    "sns.barplot(data=size_df,x='size',y='quantity',palette='Blues')\n",
    "plt.title('Orders By Pizza Size')\n",
    "plt.savefig('Orders_By_Pizza_Size');"
   ]
  },
  {
   "cell_type": "code",
   "execution_count": 67,
   "id": "e03a3d16",
   "metadata": {},
   "outputs": [],
   "source": [
    "heat=pizza_df.groupby(['day','hour'])['quantity'].sum().unstack('hour')"
   ]
  },
  {
   "cell_type": "code",
   "execution_count": 68,
   "id": "8a622c0d",
   "metadata": {},
   "outputs": [
    {
     "data": {
      "image/png": "[encoded data removed]",
      "text/plain": [
       "<Figure size 700x500 with 2 Axes>"
      ]
     },
     "metadata": {},
     "output_type": "display_data"
    }
   ],
   "source": [
    "plt.figure(figsize=(7,5))\n",
    "sns.heatmap(heat,cmap='Blues')\n",
    "plt.title('Busiest Hours of the Day')\n",
    "plt.savefig('Busiest_Hours_of_the_Day.png');"
   ]
  },
  {
   "cell_type": "code",
   "execution_count": null,
   "id": "1bf4ad12",
   "metadata": {},
   "outputs": [],
   "source": []
  }
 ],
 "metadata": {
  "kernelspec": {
   "display_name": "Python 3 (ipykernel)",
   "language": "python",
   "name": "python3"
  },
  "language_info": {
   "codemirror_mode": {
    "name": "ipython",
    "version": 3
   },
   "file_extension": ".py",
   "mimetype": "text/x-python",
   "name": "python",
   "nbconvert_exporter": "python",
   "pygments_lexer": "ipython3",
   "version": "3.11.5"
  }
 },
 "nbformat": 4,
 "nbformat_minor": 5
}
